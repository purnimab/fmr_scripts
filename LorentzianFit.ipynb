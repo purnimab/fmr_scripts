{
 "cells": [
  {
   "cell_type": "code",
   "execution_count": null,
   "metadata": {
    "collapsed": true
   },
   "outputs": [],
   "source": [
    "import FMR\n",
    "import numpy as np\n",
    "import matplotlib.pyplot as plt\n",
    "import glob,os"
   ]
  },
  {
   "cell_type": "code",
   "execution_count": null,
   "metadata": {
    "collapsed": true
   },
   "outputs": [],
   "source": [
    "#directory = '/Volumes/Transcend/Suzuki/Data/ppblsmo/FMR/ppblsmo18A-IP110/'\n",
    "#olddir = os.getcwd()\n",
    "#os.chdir(directory)\n",
    "filenames = glob.glob('*.csv')\n",
    "for f in filenames:\n",
    "    print f"
   ]
  },
  {
   "cell_type": "code",
   "execution_count": null,
   "metadata": {
    "collapsed": true
   },
   "outputs": [],
   "source": [
    "#sample specific\n",
    "toremove = ['ppblsmo18A-IP110-20180702-IP-19000MHz-000.0deg-+3dBm3.0OeRMS-0-21.csv']\n",
    "for t in toremove:\n",
    "    filenames.remove(t)\n",
    "for f in filenames:\n",
    "    print f"
   ]
  },
  {
   "cell_type": "code",
   "execution_count": null,
   "metadata": {},
   "outputs": [],
   "source": [
    "Hs = []\n",
    "dPdHs = []\n",
    "phases = []\n",
    "freqs = []\n",
    "for filename in filenames:\n",
    "    print filename\n",
    "    H, dPdH, phase = FMR.readFileTruncatePos(filename)\n",
    "    Hs.append(H)\n",
    "    dPdHs.append(dPdH)\n",
    "    phases.append(phase)\n",
    "    freq = int(filename.partition('MHz')[0].rpartition('-')[-1])/1000.\n",
    "    freqs.append(freq)\n",
    "\n",
    "#os.chdir(olddir)"
   ]
  },
  {
   "cell_type": "code",
   "execution_count": null,
   "metadata": {
    "collapsed": true
   },
   "outputs": [],
   "source": [
    "%matplotlib inline\n",
    "for i,H in enumerate(Hs):\n",
    "    print freqs[i]\n",
    "    plt.plot(H,dPdHs[i])\n",
    "    plt.show()"
   ]
  },
  {
   "cell_type": "code",
   "execution_count": null,
   "metadata": {
    "collapsed": true
   },
   "outputs": [],
   "source": [
    "%matplotlib inline\n",
    "for i,H in enumerate(Hs):\n",
    "    print freqs[i]\n",
    "    plt.plot(H,phases[i])\n",
    "    plt.show()"
   ]
  },
  {
   "cell_type": "code",
   "execution_count": null,
   "metadata": {
    "scrolled": true
   },
   "outputs": [],
   "source": [
    "%matplotlib inline\n",
    "dPdHoffsets = []\n",
    "for i,H in enumerate(Hs):\n",
    "    dPdH = dPdHs[i]\n",
    "    #if i > 3:\n",
    "    fitBG = FMR.subtractBG(H,dPdH)\n",
    "    print freqs[i]\n",
    "    plt.show()\n",
    "    dPdHoffset = dPdH - fitBG\n",
    "    #else:\n",
    "    #    dPdHoffset = dPdH\n",
    "    dPdHoffsets.append(dPdHoffset)\n",
    "\n",
    "#i = 2\n",
    "#dPdH = dPdHs[i]\n",
    "#fitBG = FMR.subtractBG(Hs[i],dPdH,window=10)\n",
    "#plt.show()\n",
    "#dPdHoffset = dPdH-fitBG\n",
    "#dPdHoffsets[i] = dPdHoffset"
   ]
  },
  {
   "cell_type": "code",
   "execution_count": null,
   "metadata": {},
   "outputs": [],
   "source": [
    "NPeaks = 1\n",
    "fits = []\n",
    "%matplotlib inline\n",
    "for i,H in enumerate(Hs):\n",
    "    #if i > 1 and i < 29:\n",
    "    dPdHoffset = dPdHoffsets[i]\n",
    "    guess = FMR.guessN(H,dPdHoffset,NPeaks)\n",
    "    fit = FMR.fitFMR(H,dPdHoffset,guess)\n",
    "    fits.append(fit)\n",
    "    print freqs[i]\n",
    "    plt.show()"
   ]
  },
  {
   "cell_type": "code",
   "execution_count": null,
   "metadata": {
    "collapsed": true
   },
   "outputs": [],
   "source": [
    "HFMR = []\n",
    "errHFMR = []\n",
    "deltaH = []\n",
    "errdeltaH = []\n",
    "phaseLorentzian = []\n",
    "errphaseLorentzian = []\n",
    "peakMagnitude = []\n",
    "errpeakMagnitude = []\n",
    "for n in np.arange(0,NPeaks):\n",
    "    peakMagnitude.append(np.array([f[0][0][0+n*4] for f in fits]))\n",
    "    HFMR.append(np.array([f[0][0][1+n*4] for f in fits]))\n",
    "    phaseLorentzian.append(np.array([f[0][0][2+n*4] for f in fits]))\n",
    "    deltaH.append(np.array([f[0][0][3+n*4] for f in fits]))\n",
    "    errpeakMagnitude.append(np.array([f[1][0][0+n*4] for f in fits]))\n",
    "    errHFMR.append(np.array([f[1][0][1+n*4] for f in fits]))\n",
    "    errphaseLorentzian.append(np.array([f[1][0][2+n*4] for f in fits]))\n",
    "    errdeltaH.append(np.array([f[1][0][3+n*4] for f in fits]))"
   ]
  },
  {
   "cell_type": "code",
   "execution_count": null,
   "metadata": {},
   "outputs": [],
   "source": [
    "HFMRfit = np.polyfit(HFMR[0][10:],freqs[10:],1)\n",
    "print HFMRfit\n",
    "Meff = -HFMRfit[1]/HFMRfit[0]\n",
    "print Meff\n",
    "#gop = HFMRfit[0]*h/(muB*mu0) #insert h, muB, mu0 in correct units"
   ]
  },
  {
   "cell_type": "code",
   "execution_count": null,
   "metadata": {},
   "outputs": [],
   "source": [
    "%matplotlib inline\n",
    "for n in np.arange(0,NPeaks):\n",
    "    plt.errorbar(freqs,HFMR[n],fmt='.',yerr=errHFMR[n])\n",
    "    plt.plot(np.poly1d(HFMRfit)(HFMR[n]),HFMR[n],'-')\n",
    "plt.ylabel('HFMR (Oe)')\n",
    "plt.xlabel('Frequency (Hz)')"
   ]
  },
  {
   "cell_type": "code",
   "execution_count": null,
   "metadata": {
    "collapsed": true
   },
   "outputs": [],
   "source": []
  },
  {
   "cell_type": "code",
   "execution_count": null,
   "metadata": {},
   "outputs": [],
   "source": [
    "%matplotlib inline\n",
    "for n in np.arange(0,NPeaks):\n",
    "    plt.errorbar(freqs,deltaH[n],fmt='.',yerr=errdeltaH[n])\n",
    "plt.ylabel('FMR Linewidth (Oe)')\n",
    "plt.xlabel('Frequency (Hz)')"
   ]
  },
  {
   "cell_type": "code",
   "execution_count": null,
   "metadata": {
    "collapsed": true
   },
   "outputs": [],
   "source": [
    "deltaH[0][0] = -1.*deltaH[0][0]"
   ]
  },
  {
   "cell_type": "code",
   "execution_count": null,
   "metadata": {},
   "outputs": [],
   "source": [
    "%matplotlib inline\n",
    "for n in np.arange(0,NPeaks):\n",
    "    plt.errorbar(freqs,phaseLorentzian[n],fmt='.',yerr=errphaseLorentzian[n])\n",
    "plt.ylabel('Phase (deg)')\n",
    "plt.xlabel('Frequency (Hz)')"
   ]
  },
  {
   "cell_type": "code",
   "execution_count": null,
   "metadata": {
    "collapsed": true
   },
   "outputs": [],
   "source": [
    "%matplotlib inline\n",
    "for n in np.arange(0,NPeaks):\n",
    "    plt.errorbar(freqs,peakMagnitude[n],fmt='.',yerr=errpeakMagnitude[n])\n",
    "plt.ylabel('Magnitude (a.u.)')\n",
    "plt.xlabel('Frequency (Hz)')"
   ]
  },
  {
   "cell_type": "code",
   "execution_count": null,
   "metadata": {},
   "outputs": [],
   "source": [
    "[1]*2"
   ]
  },
  {
   "cell_type": "code",
   "execution_count": null,
   "metadata": {
    "collapsed": true
   },
   "outputs": [],
   "source": []
  }
 ],
 "metadata": {
  "kernelspec": {
   "display_name": "Python 2",
   "language": "python",
   "name": "python2"
  },
  "language_info": {
   "codemirror_mode": {
    "name": "ipython",
    "version": 2
   },
   "file_extension": ".py",
   "mimetype": "text/x-python",
   "name": "python",
   "nbconvert_exporter": "python",
   "pygments_lexer": "ipython2",
   "version": "2.7.14"
  }
 },
 "nbformat": 4,
 "nbformat_minor": 2
}
