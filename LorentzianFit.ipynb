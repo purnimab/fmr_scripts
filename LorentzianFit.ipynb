{
 "cells": [
  {
   "cell_type": "code",
   "execution_count": null,
   "metadata": {
    "collapsed": true
   },
   "outputs": [],
   "source": [
    "import FMR\n",
    "import numpy as np\n",
    "import matplotlib.pyplot as plt\n",
    "import glob,os"
   ]
  },
  {
   "cell_type": "code",
   "execution_count": null,
   "metadata": {},
   "outputs": [],
   "source": [
    "directory = '/Volumes/Transcend/Suzuki/Data/ppblsmo/FMR/ppblsmo13A-IP110'\n",
    "olddir = os.getcwd()\n",
    "os.chdir(directory)\n",
    "filenames = glob.glob('*.csv')\n",
    "\n",
    "Hs = []\n",
    "dPdHs = []\n",
    "phases = []\n",
    "freqs = []\n",
    "for filename in filenames:\n",
    "    print filename\n",
    "    H, dPdH, phase = FMR.readFileTruncatePos(filename)\n",
    "    Hs.append(H)\n",
    "    dPdHs.append(dPdH)\n",
    "    phases.append(phase)\n",
    "    freq = int(filename.partition('MHz')[0].rpartition('-')[-1])/1000.\n",
    "    freqs.append(freq)\n",
    "\n",
    "os.chdir(olddir)"
   ]
  },
  {
   "cell_type": "code",
   "execution_count": null,
   "metadata": {},
   "outputs": [],
   "source": [
    "%matplotlib inline\n",
    "for i,H in enumerate(Hs):\n",
    "    plt.plot(H,dPdHs[i])\n",
    "    plt.show()"
   ]
  },
  {
   "cell_type": "code",
   "execution_count": null,
   "metadata": {
    "collapsed": true
   },
   "outputs": [],
   "source": [
    "%matplotlib inline\n",
    "for i,H in enumerate(Hs):\n",
    "    plt.plot(H,phases[i])\n",
    "    plt.show()"
   ]
  },
  {
   "cell_type": "code",
   "execution_count": null,
   "metadata": {
    "scrolled": false
   },
   "outputs": [],
   "source": [
    "%matplotlib inline\n",
    "dPdHoffsets = []\n",
    "for i,H in enumerate(Hs):\n",
    "    dPdH = dPdHs[i]\n",
    "    #if i > 3:\n",
    "    fitBG = FMR.subtractBG(H,dPdH)\n",
    "    plt.show()\n",
    "    dPdHoffset = dPdH - fitBG\n",
    "    #else:\n",
    "    #    dPdHoffset = dPdH\n",
    "    dPdHoffsets.append(dPdHoffset)\n",
    "\n",
    "#i = 2\n",
    "#dPdH = dPdHs[i]\n",
    "#fitBG = FMR.subtractBG(Hs[i],dPdH,window=10)\n",
    "#plt.show()\n",
    "#dPdHoffset = dPdH-fitBG\n",
    "#dPdHoffsets[i] = dPdHoffset"
   ]
  },
  {
   "cell_type": "code",
   "execution_count": null,
   "metadata": {},
   "outputs": [],
   "source": [
    "NPeaks = 2\n",
    "fits = []\n",
    "%matplotlib inline\n",
    "for i,H in enumerate(Hs):\n",
    "    #if i > 1 and i < 29:\n",
    "    dPdHoffset = dPdHoffsets[i]\n",
    "    guess = FMR.guessN(H,dPdHoffset,NPeaks)\n",
    "    fit = FMR.fitFMR(H,dPdHoffset,guess)\n",
    "    fits.append(fit)\n",
    "    plt.show()"
   ]
  },
  {
   "cell_type": "code",
   "execution_count": null,
   "metadata": {},
   "outputs": [],
   "source": [
    "print fits"
   ]
  },
  {
   "cell_type": "code",
   "execution_count": null,
   "metadata": {
    "collapsed": true
   },
   "outputs": [],
   "source": []
  }
 ],
 "metadata": {
  "kernelspec": {
   "display_name": "Python 2",
   "language": "python",
   "name": "python2"
  },
  "language_info": {
   "codemirror_mode": {
    "name": "ipython",
    "version": 2
   },
   "file_extension": ".py",
   "mimetype": "text/x-python",
   "name": "python",
   "nbconvert_exporter": "python",
   "pygments_lexer": "ipython2",
   "version": "2.7.14"
  }
 },
 "nbformat": 4,
 "nbformat_minor": 2
}
