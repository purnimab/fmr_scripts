{
 "cells": [
  {
   "cell_type": "code",
   "execution_count": null,
   "metadata": {
    "collapsed": true
   },
   "outputs": [],
   "source": [
    "import numpy as np\n",
    "import matplotlib.pyplot as plt\n",
    "import glob,os\n",
    "import FMR\n",
    "from scipy.interpolate import interp1d"
   ]
  },
  {
   "cell_type": "code",
   "execution_count": null,
   "metadata": {},
   "outputs": [],
   "source": [
    "directory = '../ppblsmo20A-OOP-redo-highsens/'\n",
    "olddir = os.getcwd()\n",
    "os.chdir(directory)\n",
    "filenames = glob.glob('*.csv')\n",
    "for f in filenames:\n",
    "    print f"
   ]
  },
  {
   "cell_type": "code",
   "execution_count": null,
   "metadata": {},
   "outputs": [],
   "source": [
    "def readFile(filename):\n",
    "    return np.loadtxt(filename, unpack=True, delimiter=',')\n",
    "\n",
    "Hmeass = []\n",
    "dPdHs = []\n",
    "phases = []\n",
    "freqs = []\n",
    "for filename in filenames:\n",
    "    print filename\n",
    "    Hmeas, dPdH, phase = FMR.readFile(filename)\n",
    "    Hmeass.append(Hmeas)\n",
    "    dPdHs.append(dPdH)\n",
    "    phases.append(phase)\n",
    "    freq = int(filename.partition('MHz')[0].rpartition('-')[-1])/1000.\n",
    "    freqs.append(freq)\n",
    "\n",
    "#os.chdir(olddir)"
   ]
  },
  {
   "cell_type": "markdown",
   "metadata": {},
   "source": [
    "Convert H_measured to H_sample --> the errors on this measurement and conversion are tiny so we will ignore them"
   ]
  },
  {
   "cell_type": "code",
   "execution_count": null,
   "metadata": {},
   "outputs": [],
   "source": [
    "gaussmeter = np.load('../FieldCalibration/fieldcalib190220.npz')\n",
    "gaussfit = interp1d(gaussmeter['twosupply_measuredH'], gaussmeter['twosupply_actualH'],kind='cubic')\n",
    "print 'Hreadscale = '+str(gaussmeter['h_read_scale'])\n",
    "print 'Hreadoffset = '+str(gaussmeter['h_read_offset'])\n",
    "\n",
    "Hs = []\n",
    "for Hmeas in Hmeass:\n",
    "    #field recorded in the file is field_measured*h_read_scale + h_read_offset - instead we are correcting this to a better calibration from measured -> actual H\n",
    "    Hraw = (Hmeas-gaussmeter['h_read_offset'])/gaussmeter['h_read_scale']\n",
    "    Hs.append(gaussfit(Hraw))"
   ]
  },
  {
   "cell_type": "code",
   "execution_count": null,
   "metadata": {},
   "outputs": [],
   "source": [
    "%matplotlib inline\n",
    "for i,H in enumerate(Hs):\n",
    "    print str(i)+': '+str(freqs[i])\n",
    "    plt.plot(H,dPdHs[i],label='corrected')\n",
    "    plt.plot(Hmeass[i],dPdHs[i],label='arbitrary scaling')\n",
    "    imax = np.argmax(dPdHs[i])\n",
    "    plt.plot(H[imax],dPdHs[i][imax],'*')\n",
    "    imin = np.argmin(dPdHs[i])\n",
    "    plt.plot(H[imin],dPdHs[i][imin],'*')\n",
    "    plt.legend()\n",
    "    plt.show()"
   ]
  },
  {
   "cell_type": "markdown",
   "metadata": {},
   "source": [
    "From above graphs, some of the spectra do not include any resonance peaks, were aborted before all of the data was taken, etc - removing these from the analysis. Need to then rerun all of the data reading as well"
   ]
  },
  {
   "cell_type": "code",
   "execution_count": null,
   "metadata": {},
   "outputs": [],
   "source": [
    "#sample specific\n",
    "toremove = ['ppblsmo20A-20190221-Hreadscale1.441-Hreadoffset-11.535-sens10uv-100ms-OP-20000MHz-000.0deg-+8dBm3.0OeRMS-0-2.csv',\n",
    "            'ppblsmo20A-20190221-Hreadscale1.441-Hreadoffset-11.535-sens10uv-100ms-OP-22500MHz-000.0deg-+8dBm3.0OeRMS-0-5.csv',\n",
    "            'ppblsmo20A-20190221-Hreadscale1.441-Hreadoffset-11.535-sens10uv-100ms-OP-25000MHz-000.0deg-+8dBm3.0OeRMS-0-1.csv']\n",
    "for t in toremove:\n",
    "    filenames.remove(t)\n",
    "for f in filenames:\n",
    "    print f"
   ]
  },
  {
   "cell_type": "markdown",
   "metadata": {},
   "source": [
    "The phase actually gives some interesting information as well - also essentially a Lorentzian peak with the same parameters (we measure X and phase so now we have twice the data!) - so we want to \"unwrap\" it"
   ]
  },
  {
   "cell_type": "code",
   "execution_count": null,
   "metadata": {
    "collapsed": true
   },
   "outputs": [],
   "source": [
    "#def unwrapPhase(phase):\n",
    "#    for i in np.arange(len(phase)-1):\n",
    "#        phiplus1 = phase[i+1]\n",
    "#        phi = phase[i]\n",
    "#        diffs = np.array([360., 0., -360.])\n",
    "#        whichloop = np.argmin(np.abs(phiplus1-phi+diffs)) #compare difference of angles\n",
    "#        if whichloop != 1:\n",
    "#            phase[i+1] += diffs[whichloop]\n",
    "#    return phase"
   ]
  },
  {
   "cell_type": "code",
   "execution_count": null,
   "metadata": {
    "collapsed": true
   },
   "outputs": [],
   "source": [
    "for i,p in enumerate(phases):\n",
    "    phases[i] = FMR.unwrapPhase(p)"
   ]
  },
  {
   "cell_type": "code",
   "execution_count": null,
   "metadata": {},
   "outputs": [],
   "source": [
    "%matplotlib inline\n",
    "for i,H in enumerate(Hs):\n",
    "    print freqs[i]\n",
    "    plt.plot(H,phases[i])\n",
    "    plt.show()"
   ]
  },
  {
   "cell_type": "code",
   "execution_count": null,
   "metadata": {},
   "outputs": [],
   "source": [
    "%matplotlib inline\n",
    "for i,H in enumerate(Hs):\n",
    "    print freqs[i]\n",
    "    #plt.plot(H,phases[i])\n",
    "    plt.plot(H,-dPdHs[i]*np.tan(phases[i]*np.pi/180.))\n",
    "    plt.plot(H,dPdHs[i])\n",
    "    plt.show()"
   ]
  },
  {
   "cell_type": "markdown",
   "metadata": {},
   "source": [
    "The above graphs show that there are large errors in Y when X crosses 0 - this may not be as useful to incorporate (maybe more useful to measure X, Y from the lockin rather than X, Theta)"
   ]
  },
  {
   "cell_type": "code",
   "execution_count": null,
   "metadata": {
    "collapsed": true
   },
   "outputs": [],
   "source": [
    "#\n",
    "#Ys = []\n",
    "#for i,p in enumerate(phases):\n",
    "#    X = np.array(dPdHs[i])\n",
    "#    Y = X*np.tan(np.array(p)*np.pi/180.)\n",
    "#    Ys.append(Y)"
   ]
  },
  {
   "cell_type": "markdown",
   "metadata": {},
   "source": [
    "Background subtraction - If necessary, may need to get rid of noisy points to make the background subtraction easier"
   ]
  },
  {
   "cell_type": "code",
   "execution_count": null,
   "metadata": {
    "collapsed": true
   },
   "outputs": [],
   "source": [
    "from scipy.optimize import curve_fit\n",
    "\n",
    "def subtractBG(H, dPdH, window=6, BGfunc=FMR.linearBG):\n",
    "    #need to fix this to work with negative H\n",
    "    guessmag, guessres, guesswidth = FMR.guesses(H,dPdH)\n",
    "    bgH = []\n",
    "    bg = []\n",
    "    \n",
    "    upperbound = np.where(H>guessres+guesswidth*window)[0]\n",
    "    if len(upperbound) > 0:\n",
    "        bgend = upperbound[-1]\n",
    "        bgH.extend(H[0:bgend])\n",
    "        bg.extend(dPdH[0:bgend])\n",
    "    else:\n",
    "        bgend = 0\n",
    "\n",
    "    lowerbound = np.where(H<guessres-guesswidth*window)[0]\n",
    "    if len(lowerbound) > 0:\n",
    "        bgstart = lowerbound[0]\n",
    "        bgH.extend(H[bgstart:])\n",
    "        bg.extend(dPdH[bgstart:])\n",
    "    else:\n",
    "        bgstart = -1\n",
    "    \n",
    "    if len(bg) > 1:\n",
    "        guess = np.array([0, 0])\n",
    "        fit = curve_fit(BGfunc, bgH, bg, guess)\n",
    "\n",
    "        #extract noise\n",
    "        fitBGregion = BGfunc(np.array(bgH), *(fit[0]))\n",
    "        s2 = np.sum((bg - fitBGregion)**2) / (len(bgH)-2) #-2 b/c 2 points needed to make a line\n",
    "        errordPdH = np.ones_like(bgH)*np.sqrt(s2)\n",
    "        \n",
    "        #because all of the errors are equal, the covariance matrix of the fit is independent of the errors\n",
    "        \n",
    "        fitBG = BGfunc(H, *(fit[0]))\n",
    "        plt.plot(H,dPdH,'.')\n",
    "        plt.plot(H,fitBG)\n",
    "        plt.vlines(H[bgend],np.min(dPdH),np.max(dPdH),linestyles='dotted')\n",
    "        plt.vlines(H[bgstart],np.min(dPdH),np.max(dPdH),linestyles='dotted')\n",
    "    else:\n",
    "        fit = (np.array([0.,0.]), np.array([[0.,0.],[0.,0.]]))\n",
    "    \n",
    "    return fit, s2"
   ]
  },
  {
   "cell_type": "code",
   "execution_count": null,
   "metadata": {
    "collapsed": true
   },
   "outputs": [],
   "source": [
    "curve_fit?"
   ]
  },
  {
   "cell_type": "code",
   "execution_count": null,
   "metadata": {},
   "outputs": [],
   "source": [
    "reload(FMR)"
   ]
  },
  {
   "cell_type": "code",
   "execution_count": null,
   "metadata": {
    "scrolled": true
   },
   "outputs": [],
   "source": [
    "%matplotlib inline\n",
    "dPdHoffsets = []\n",
    "VdPdHoffsets = []\n",
    "windows = [12,12,12,4,12,12,8,12,12] #adjusted visually\n",
    "for i,H in enumerate(Hs):\n",
    "    dPdH = dPdHs[i]\n",
    "    fit, s2dPdH = subtractBG(H,dPdH,window=windows[i])\n",
    "    print fit\n",
    "    print s2dPdH\n",
    "    print freqs[i]\n",
    "    plt.show()\n",
    "    dPdHoffset = dPdH - FMR.linearBG(H,*(fit[0]))\n",
    "    dPdHoffsets.append(dPdHoffset)\n",
    "    \n",
    "    V = np.array([[j*h*fit[1][0][0] + fit[1][1][1] + (j+h)*fit[1][0][1] for j in H] for h in H])\n",
    "    V2 = np.identity(len(H))*s2dPdH\n",
    "    VdPdHoffsets.append(V+V2)"
   ]
  },
  {
   "cell_type": "code",
   "execution_count": null,
   "metadata": {},
   "outputs": [],
   "source": [
    "len(V)"
   ]
  },
  {
   "cell_type": "code",
   "execution_count": null,
   "metadata": {
    "collapsed": true
   },
   "outputs": [],
   "source": [
    "i=26\n",
    "H = Hs[i]\n",
    "dPdH = dPdHs[i]\n",
    "fitBG = FMR.subtractBG(H,dPdH,window=10)\n",
    "print freqs[i]\n",
    "plt.show()\n",
    "dPdHoffset = dPdH - fitBG\n",
    "dPdHoffsets.append(dPdHoffset)"
   ]
  },
  {
   "cell_type": "code",
   "execution_count": null,
   "metadata": {},
   "outputs": [],
   "source": [
    "reload(FMR)"
   ]
  },
  {
   "cell_type": "markdown",
   "metadata": {},
   "source": [
    "Fit to the sum of multiple Lorentzian-derivative lineshapes (containing both symmetric and antisymmetric parts), taking into account covariance between different measurements of power - currently I'm only fitting dP/dH (X from the lockin) but in the future I may also use the second measurement, Theta or Y from the lock-in"
   ]
  },
  {
   "cell_type": "code",
   "execution_count": null,
   "metadata": {
    "collapsed": true
   },
   "outputs": [],
   "source": [
    "def fitFMRcov(H, dPdHoffset, V, guess, debug=False, guessplt=1):\n",
    "    fit = curve_fit(lambda x,*guess: FMR.LorentzianDerivativeNWrapper(x,guess), H, dPdHoffset, guess, sigma=V)\n",
    "    fitY = FMR.LorentzianDerivativeNWrapper(H, fit[0])\n",
    "    \n",
    "    #splitting parameters into the different N curves\n",
    "    fitsep = np.array(fit[0])\n",
    "    fitsep.shape = (fitsep.shape[0]/4,4)\n",
    "\n",
    "    covsep = []\n",
    "    for i in np.arange(0,fitsep.shape[0]):\n",
    "        covpart = fit[1][i*4:(i+1)*4,i*4:(i+1)*4]\n",
    "        covsep.append(covpart)\n",
    "    covsep = np.array(covsep)\n",
    "\n",
    "    covfull = fit[1]\n",
    "\n",
    "    fitsepY = [FMR.LorentzianDerivative(H, *(f)) for f in fitsep]\n",
    "    \n",
    "    plt.plot(H,dPdHoffset,'.')\n",
    "    if debug:\n",
    "        plt.plot(H,FMR.LorentzianDerivativeNWrapper(H, guess)*guessplt)\n",
    "    plt.plot(H,fitY,linewidth=3.0)\n",
    "    residual = dPdHoffset-fitY\n",
    "    plt.plot(H,residual+(np.min(fitY)-np.max(residual))*1.5,'.-k')\n",
    "    for f in fitsepY:\n",
    "        plt.plot(H,f)\n",
    "    plt.ylabel('Derivative of Absorbed Power (a.u.)')\n",
    "    plt.xlabel('External Field (Oe)')\n",
    "        \n",
    "    return fitsep,covsep,covfull"
   ]
  },
  {
   "cell_type": "code",
   "execution_count": null,
   "metadata": {
    "collapsed": true
   },
   "outputs": [],
   "source": [
    "curve_fit?"
   ]
  },
  {
   "cell_type": "code",
   "execution_count": null,
   "metadata": {
    "scrolled": true
   },
   "outputs": [],
   "source": [
    "#NPeaks = [2]*len(freqs)\n",
    "#guessPos = ['Left']*len(freqs)\n",
    "#widths=[3]*len(freqs)\n",
    "NPeaks = [2, 2, 2, 2, 2, 2, 2, 3, 2]\n",
    "widths = [6, 6, 6, 2, 6, 6, 4, 6, 6]\n",
    "guessPos = ['Left', 'Left', 'Left', 'Left', 'Left', 'Left', 'Left', 'Center', 'Left']\n",
    "fits = []\n",
    "goodnessoffit = []\n",
    "%matplotlib inline\n",
    "for i,H in enumerate(Hs):\n",
    "    dPdHoffset = dPdHoffsets[i]\n",
    "    V = VdPdHoffsets[i]\n",
    "    guess = FMR.guessN(H,dPdHoffset,NPeaks[i],width=widths[i],pos=guessPos[i])\n",
    "    #if i == 5:\n",
    "    #    guess[5] = 2*guess[1] - guess[5]\n",
    "    fit = fitFMRcov(H,dPdHoffset,V,guess)#,debug='True')\n",
    "    fits.append(fit)\n",
    "    print str(i)+': '+str(freqs[i])\n",
    "    \n",
    "    df = len(H) - fit[0].size\n",
    "    \n",
    "    mu = FMR.LorentzianDerivativeNWrapper(H,fit[0].reshape(fit[0].size))\n",
    "    diff = dPdHoffsets[i] - mu\n",
    "    chi2 = np.sum(np.matmul(np.matmul(diff.transpose(),np.linalg.inv(V)),diff))\n",
    "    gf = chi2/df\n",
    "    goodnessoffit.append(gf)\n",
    "    print 'goodness of fit: '+str(gf)+', p = '\n",
    "    print st.chi2.cdf(chi2,df)\n",
    "    \n",
    "    plt.show()"
   ]
  },
  {
   "cell_type": "code",
   "execution_count": null,
   "metadata": {},
   "outputs": [],
   "source": [
    "st.chi2.cdf(chi2,df)"
   ]
  },
  {
   "cell_type": "code",
   "execution_count": null,
   "metadata": {},
   "outputs": [],
   "source": [
    "fits[0][0].size"
   ]
  },
  {
   "cell_type": "code",
   "execution_count": null,
   "metadata": {},
   "outputs": [],
   "source": [
    "%matplotlib inline\n",
    "i = -2\n",
    "print guessPos[i]\n",
    "print NPeaks[i]\n",
    "print widths[i]\n",
    "print str(i)+': '+str(freqs[i])\n",
    "dPdHoffset = dPdHoffsets[i]\n",
    "#guess = FMR.guessN(Hs[i],dPdHoffset,1,width=5,pos='Left')\n",
    "#fit = FMR.fitFMR(Hs[i],dPdHoffset,guess,debug=True)\n",
    "#plt.show()\n",
    "V = VdPdHoffsets[i]\n",
    "guess = FMR.guessN(Hs[i],dPdHoffset,2,width=6,pos='Left')\n",
    "fit = fitFMRcov(Hs[i],dPdHoffset,V,guess,debug=True)\n",
    "p1 = fit[0][0]\n",
    "mu = FMR.LorentzianDerivativeNWrapper(Hs[i],fit[0].reshape(fit[0].size))\n",
    "diff = dPdHoffsets[i] - mu\n",
    "chi2 = np.sum(np.matmul(np.matmul(diff.transpose(),np.linalg.inv(V)),diff))\n",
    "gf = chi2/df\n",
    "print 'goodness of fit: '+str(gf)+', p = '\n",
    "print st.chi2.cdf(chi2,df)\n",
    "plt.show()\n",
    "guess = FMR.guessN(Hs[i],dPdHoffset,3,width=6,pos='Left')\n",
    "fit = fitFMRcov(Hs[i],dPdHoffset,V,guess,debug=True)\n",
    "p2 = fit[0][-1]\n",
    "mu = FMR.LorentzianDerivativeNWrapper(Hs[i],fit[0].reshape(fit[0].size))\n",
    "diff = dPdHoffsets[i] - mu\n",
    "chi2 = np.sum(np.matmul(np.matmul(diff.transpose(),np.linalg.inv(V)),diff))\n",
    "gf = chi2/df\n",
    "print 'goodness of fit: '+str(gf)+', p = '\n",
    "print st.chi2.cdf(chi2,df)\n",
    "plt.show()\n",
    "\n",
    "guess = np.array([p1,p2]).reshape(8)\n",
    "fit = fitFMRcov(Hs[i],dPdHoffset,V,guess,debug=True)\n",
    "mu = FMR.LorentzianDerivativeNWrapper(Hs[i],fit[0].reshape(fit[0].size))\n",
    "plt.plot(Hs[i],dPdHoffsets[i] - FMR.LorentzianDerivativeNWrapper(Hs[i],guess)-0.0000045,'.-')\n",
    "diff = dPdHoffsets[i] - mu\n",
    "chi2 = np.sum(np.matmul(np.matmul(diff.transpose(),np.linalg.inv(V)),diff))\n",
    "gf = chi2/df\n",
    "print 'goodness of fit: '+str(gf)+', p = '\n",
    "print st.chi2.cdf(chi2,df)\n",
    "plt.show()\n",
    "#print fit[0]"
   ]
  },
  {
   "cell_type": "code",
   "execution_count": null,
   "metadata": {},
   "outputs": [],
   "source": [
    "i = 0\n",
    "mainpeakparams = fits[i][0][0] #ith frequency, 0=parameters, 0=first peak\n",
    "\n",
    "print 'Frequency '+str(freqs[i])+' GHz'\n",
    "print 'Resonant Field '+str(mainpeakparams[1])+' Oe pm '+str(fits[i][1][0][1][1])\n",
    "print 'Linewidth '+str(mainpeakparams[3])+' Oe pm '+str(fits[i][1][0][3][3])\n",
    "\n",
    "Hres = np.linspace(mainpeakparams[1]-1., mainpeakparams[1]+1.,100)\n",
    "delH = np.linspace(mainpeakparams[3]-1.,mainpeakparams[3]+1.,100)\n",
    "\n",
    "Vinv = np.linalg.inv(VdPdHoffsets[i])\n",
    "\n",
    "chi2array = []\n",
    "for hr in Hres:\n",
    "    row = []\n",
    "    for d in delH:\n",
    "        params = fits[i][0].copy()\n",
    "        params[0][1] = hr\n",
    "        params[0][3] = d\n",
    "        params = params.reshape(params.shape[0]*4)\n",
    "        #print params\n",
    "        \n",
    "        mu = FMR.LorentzianDerivativeNWrapper(Hs[i],params)\n",
    "        diff = dPdHoffsets[i] - mu\n",
    "        if d == delH[0] and hr == Hres[0]:\n",
    "            #print params.shape\n",
    "            %matplotlib inline\n",
    "            plt.plot(Hs[i],mu)\n",
    "            plt.plot(Hs[i],diff)\n",
    "        chi2 = np.sum(np.matmul(np.matmul(diff.transpose(),Vinv),diff))\n",
    "        row.append(chi2)\n",
    "    chi2array.append(row)"
   ]
  },
  {
   "cell_type": "code",
   "execution_count": null,
   "metadata": {},
   "outputs": [],
   "source": [
    "chi2array = np.array(chi2array)\n",
    "\n",
    "import scipy.stats as st\n",
    "CLs = [0.68, 0.95, 0.99]\n",
    "NPeak = fits[i][0].shape[0]\n",
    "q = st.chi2.ppf(CLs,NPeak*4)\n",
    "print q\n",
    "\n",
    "ind = np.unravel_index(np.argmin(chi2array, axis=None), chi2array.shape)\n",
    "\n",
    "m = np.min(chi2array)\n",
    "print m\n",
    "print chi2array[ind]\n",
    "levels = m+np.array(q)\n",
    "    \n",
    "%matplotlib inline\n",
    "\n",
    "fig1, ax1 = plt.subplots()\n",
    "\n",
    "# Basic contour plot\n",
    "CS1 = ax1.contour(Hres,delH,chi2array,levels)\n",
    "ax1.plot(mainpeakparams[1],mainpeakparams[3],'o')\n",
    "ax1.plot(Hres[ind[1]],delH[ind[0]],'*')\n",
    "\n",
    "fmt = {}\n",
    "for l, s in zip(CS1.levels, [str(c*100.)+'%' for c in CLs]):\n",
    "    fmt[l] = s\n",
    "\n",
    "# Label every other level using strings\n",
    "ax1.clabel(CS1, CS1.levels, inline=True, fmt=fmt)#, fontsize=10)\n",
    "plt.xlabel(r'$H_{FMR}$ for peak 1, Oe')\n",
    "plt.ylabel(r'$\\Delta H$ for peak 1, Oe')\n",
    "plt.title(r'$\\chi^2$ Contour plot')\n",
    "\n",
    "#s = allparams.shape\n",
    "#for l in np.arange(0,s[0]):\n",
    "#    for m in np.arange(0,s[1]):\n",
    "        \n",
    "\n",
    "#print allparams.shape\n",
    "#model = FMR.LorentzianDerivativeNWrapper(Hs[i],allparams)\n",
    "#making a triangle plot\n",
    "\n",
    "print 'rho = '+str(fits[i][2][1][3]/np.sqrt(fits[i][2][1][1]*fits[i][2][3][3]))"
   ]
  },
  {
   "cell_type": "code",
   "execution_count": null,
   "metadata": {},
   "outputs": [],
   "source": [
    "i = 7\n",
    "mainpeakparams = fits[i][0][0] #ith frequency, 0=parameters, 0=first peak\n",
    "\n",
    "print 'Frequency '+str(freqs[i])+' GHz'\n",
    "print 'Resonant Field '+str(mainpeakparams[1])+' Oe pm '+str(fits[i][1][0][1][1])\n",
    "print 'Linewidth '+str(mainpeakparams[3])+' Oe pm '+str(fits[i][1][0][3][3])\n",
    "\n",
    "Hres = np.linspace(mainpeakparams[1]-10., mainpeakparams[1]+10.,100)\n",
    "delH = np.linspace(mainpeakparams[3]-10.,mainpeakparams[3]+10.,100)\n",
    "\n",
    "Vinv = np.linalg.inv(VdPdHoffsets[i])\n",
    "\n",
    "chi2array = []\n",
    "for hr in Hres:\n",
    "    row = []\n",
    "    for d in delH:\n",
    "        params = fits[i][0].copy()\n",
    "        params[0][1] = hr\n",
    "        params[0][3] = d\n",
    "        params = params.reshape(params.shape[0]*4)\n",
    "        #print params\n",
    "        \n",
    "        mu = FMR.LorentzianDerivativeNWrapper(Hs[i],params)\n",
    "        diff = dPdHoffsets[i] - mu\n",
    "        if d == delH[0] and hr == Hres[0]:\n",
    "            #print params.shape\n",
    "            %matplotlib inline\n",
    "            plt.plot(Hs[i],mu)\n",
    "            plt.plot(Hs[i],diff)\n",
    "        chi2 = np.sum(np.matmul(np.matmul(diff.transpose(),Vinv),diff))\n",
    "        row.append(chi2)\n",
    "    chi2array.append(row)"
   ]
  },
  {
   "cell_type": "code",
   "execution_count": null,
   "metadata": {},
   "outputs": [],
   "source": [
    "chi2array = np.array(chi2array)\n",
    "\n",
    "import scipy.stats as st\n",
    "CLs = [0.68, 0.95, 0.99]\n",
    "NPeak = fits[i][0].shape[0]\n",
    "q = st.chi2.ppf(CLs,NPeak*4)\n",
    "print q\n",
    "\n",
    "ind = np.unravel_index(np.argmin(chi2array, axis=None), chi2array.shape)\n",
    "\n",
    "m = np.min(chi2array)\n",
    "print m\n",
    "print chi2array[ind]\n",
    "levels = m+np.array(q)\n",
    "    \n",
    "%matplotlib inline\n",
    "\n",
    "fig1, ax1 = plt.subplots()\n",
    "\n",
    "# Basic contour plot\n",
    "CS1 = ax1.contour(Hres,delH,chi2array,levels)\n",
    "ax1.plot(mainpeakparams[1],mainpeakparams[3],'o')\n",
    "ax1.plot(Hres[ind[1]],delH[ind[0]],'*')\n",
    "\n",
    "fmt = {}\n",
    "for l, s in zip(CS1.levels, [str(c*100.)+'%' for c in CLs]):\n",
    "    fmt[l] = s\n",
    "\n",
    "# Label every other level using strings\n",
    "ax1.clabel(CS1, CS1.levels, inline=True, fmt=fmt)#, fontsize=10)\n",
    "plt.xlabel(r'$H_{FMR}$ for peak 1, Oe')\n",
    "plt.ylabel(r'$\\Delta H$ for peak 1, Oe')\n",
    "plt.title(r'$\\chi^2$ Contour plot')\n",
    "\n",
    "#s = allparams.shape\n",
    "#for l in np.arange(0,s[0]):\n",
    "#    for m in np.arange(0,s[1]):\n",
    "        \n",
    "\n",
    "#print allparams.shape\n",
    "#model = FMR.LorentzianDerivativeNWrapper(Hs[i],allparams)\n",
    "#making a triangle plot\n",
    "\n",
    "print 'rho = '+str(fits[i][2][1][3]/np.sqrt(fits[i][2][1][1]*fits[i][2][3][3]))"
   ]
  },
  {
   "cell_type": "markdown",
   "metadata": {},
   "source": [
    "Gaussian! But what about the other fit parameters?"
   ]
  },
  {
   "cell_type": "code",
   "execution_count": null,
   "metadata": {},
   "outputs": [],
   "source": [
    "i = 7\n",
    "peakparams = fits[i][0] #ith frequency, 0=parameters, 0=first peak\n",
    "\n",
    "print 'Frequency '+str(freqs[i])+' GHz'\n",
    "print 'Linewidth 1 '+str(peakparams[0][3])+' Oe pm '+str(fits[i][1][0][3][3])\n",
    "print 'Linewidth 2 '+str(peakparams[-1][3])+' Oe pm '+str(fits[i][1][-1][3][3])\n",
    "\n",
    "delH1 = np.linspace(peakparams[0][3]-10., peakparams[0][3]+10.,100)\n",
    "delH2 = np.linspace(peakparams[-1][3]-10.,peakparams[-1][3]+10.,100)\n",
    "\n",
    "Vinv = np.linalg.inv(VdPdHoffsets[i])\n",
    "\n",
    "chi2array = []\n",
    "for d1 in delH1:\n",
    "    row = []\n",
    "    for d2 in delH2:\n",
    "        params = fits[i][0].copy()\n",
    "        params[0][3] = d1\n",
    "        params[-1][3] = d2\n",
    "        params = params.reshape(params.shape[0]*4)\n",
    "        #print params\n",
    "        \n",
    "        mu = FMR.LorentzianDerivativeNWrapper(Hs[i],params)\n",
    "        diff = dPdHoffsets[i] - mu\n",
    "        if d1 == delH1[0] and d2 == delH2[0]:\n",
    "            #print params.shape\n",
    "            %matplotlib inline\n",
    "            plt.plot(Hs[i],mu)\n",
    "            plt.plot(Hs[i],diff)\n",
    "        chi2 = np.sum(np.matmul(np.matmul(diff.transpose(),Vinv),diff))\n",
    "        row.append(chi2)\n",
    "    chi2array.append(row)"
   ]
  },
  {
   "cell_type": "code",
   "execution_count": null,
   "metadata": {},
   "outputs": [],
   "source": [
    "chi2array = np.array(chi2array)\n",
    "\n",
    "import scipy.stats as st\n",
    "CLs = [0.68, 0.95, 0.99]\n",
    "NPeak = fits[i][0].shape[0]\n",
    "q = st.chi2.ppf(CLs,NPeak*4)\n",
    "print q\n",
    "\n",
    "ind = np.unravel_index(np.argmin(chi2array, axis=None), chi2array.shape)\n",
    "\n",
    "m = np.min(chi2array)\n",
    "print m\n",
    "print chi2array[ind]\n",
    "levels = m+np.array(q)\n",
    "    \n",
    "%matplotlib inline\n",
    "\n",
    "fig1, ax1 = plt.subplots()\n",
    "\n",
    "# Basic contour plot\n",
    "CS1 = ax1.contour(delH1,delH2,chi2array,levels)\n",
    "ax1.plot(peakparams[0][3],peakparams[-1][3],'o')\n",
    "ax1.plot(delH1[ind[1]],delH2[ind[0]],'*')\n",
    "\n",
    "fmt = {}\n",
    "for l, s in zip(CS1.levels, [str(c*100.)+'%' for c in CLs]):\n",
    "    fmt[l] = s\n",
    "\n",
    "# Label every other level using strings\n",
    "ax1.clabel(CS1, CS1.levels, inline=True, fmt=fmt)#, fontsize=10)\n",
    "plt.xlabel(r'$\\Delta H$ for peak 1, Oe')\n",
    "plt.ylabel(r'$\\Delta H$ for peak 3, Oe')\n",
    "plt.title(r'$\\chi^2$ Contour plot')\n",
    "\n",
    "#s = allparams.shape\n",
    "#for l in np.arange(0,s[0]):\n",
    "#    for m in np.arange(0,s[1]):\n",
    "        \n",
    "\n",
    "#print allparams.shape\n",
    "#model = FMR.LorentzianDerivativeNWrapper(Hs[i],allparams)\n",
    "#making a triangle plot\n",
    "\n",
    "print 'rho = '+str(fits[i][2][3][11]/np.sqrt(fits[i][2][3][3]*fits[i][2][11][11]))"
   ]
  },
  {
   "cell_type": "code",
   "execution_count": null,
   "metadata": {},
   "outputs": [],
   "source": [
    "#plot for linewidths for different peaks\n",
    "\n",
    "i = 0\n",
    "peakparams = fits[i][0] #ith frequency, 0=parameters, 0=first peak\n",
    "\n",
    "print 'Frequency '+str(freqs[i])+' GHz'\n",
    "print 'Linewidth 1 '+str(peakparams[0][3])+' Oe pm '+str(np.sqrt(fits[i][2][3][3]))\n",
    "print 'Linewidth 2 '+str(peakparams[1][3])+' Oe pm '+str(np.sqrt(fits[i][2][7][7]))\n",
    "\n",
    "delH1 = np.linspace(peakparams[0][3]-3., peakparams[0][3]+3.,300)\n",
    "delH2 = np.linspace(peakparams[1][3]-3., peakparams[1][3]+3.,300)\n",
    "\n",
    "Vinv = np.linalg.inv(VdPdHoffsets[i])\n",
    "\n",
    "chi2array = []\n",
    "for d1 in delH1:\n",
    "    row = []\n",
    "    for d2 in delH2:\n",
    "        params = fits[i][0].copy()\n",
    "        params[0][3] = d1\n",
    "        params[1][3] = d2\n",
    "        params = params.reshape(params.shape[0]*4)\n",
    "        #print params\n",
    "        \n",
    "        mu = FMR.LorentzianDerivativeNWrapper(Hs[i],params)\n",
    "        diff = dPdHoffsets[i] - mu\n",
    "        chi2 = np.sum(np.matmul(np.matmul(diff.transpose(),Vinv),diff))\n",
    "        row.append(chi2)\n",
    "    chi2array.append(row)"
   ]
  },
  {
   "cell_type": "code",
   "execution_count": null,
   "metadata": {},
   "outputs": [],
   "source": [
    "print 'Frequency '+str(freqs[i])+' GHz'\n",
    "print 'Linewidth 1 '+str(peakparams[0][3])+' Oe pm '+str(np.sqrt(fits[i][1][0][3][3]))\n",
    "print 'Linewidth 2 '+str(peakparams[1][3])+' Oe pm '+str(np.sqrt(fits[i][1][1][3][3]))"
   ]
  },
  {
   "cell_type": "code",
   "execution_count": null,
   "metadata": {},
   "outputs": [],
   "source": [
    "chi2array = np.array(chi2array)\n",
    "\n",
    "import scipy.stats as st\n",
    "CLs = [0.68, 0.95, 0.99]\n",
    "#CLs = [0.5, 0.68, 0.8, 0.95, 0.99, 0.999]\n",
    "NPeak = fits[i][0].shape[0]\n",
    "q = st.chi2.ppf(CLs,NPeak*4)\n",
    "print q\n",
    "\n",
    "ind = np.unravel_index(np.argmin(chi2array, axis=None), chi2array.shape)\n",
    "\n",
    "m = np.min(chi2array)\n",
    "print m\n",
    "print chi2array[ind]\n",
    "levels = m+np.array(q)\n",
    "    \n",
    "%matplotlib inline\n",
    "\n",
    "fig1, ax1 = plt.subplots()\n",
    "\n",
    "# Basic contour plot\n",
    "CS1 = ax1.contour(delH1,delH2,chi2array,levels)\n",
    "ax1.plot(peakparams[0][3],peakparams[1][3],'o')\n",
    "ax1.plot(delH1[ind[1]],delH2[ind[0]],'*')\n",
    "\n",
    "fmt = {}\n",
    "for l, s in zip(CS1.levels, [str(c*100.)+'%' for c in CLs]):\n",
    "    fmt[l] = s\n",
    "\n",
    "# Label every other level using strings\n",
    "ax1.clabel(CS1, CS1.levels, inline=True, fmt=fmt)#, fontsize=10)\n",
    "ax1.set_aspect('equal')\n",
    "plt.xlabel(r'$\\Delta H$ for peak 1, Oe')\n",
    "plt.ylabel(r'$\\Delta H$ for peak 2, Oe')\n",
    "plt.title(r'$\\chi^2$ Contour plot')\n",
    "\n",
    "#s = allparams.shape\n",
    "#for l in np.arange(0,s[0]):\n",
    "#    for m in np.arange(0,s[1]):\n",
    "        \n",
    "\n",
    "#print allparams.shape\n",
    "#model = FMR.LorentzianDerivativeNWrapper(Hs[i],allparams)\n",
    "#making a triangle plot\n",
    "\n",
    "print 'rho = '+str(fits[i][2][3][7]/np.sqrt(fits[i][2][3][3]*fits[i][2][7][7]))"
   ]
  },
  {
   "cell_type": "code",
   "execution_count": null,
   "metadata": {
    "collapsed": true
   },
   "outputs": [],
   "source": [
    "outfile = 'ppblsmo20A-20190221-peakfits'\n",
    "np.savez(outfile, frequenciesGHz = freqs, spectrumfieldOe = Hs, spectrumpowerau = dPdHoffsets,\n",
    "         spectrumphasedeg = phases, spectrumpowercovariance = VdPdHoffsets,\n",
    "         LorentzianFitParamsSeparated = [f[0] for f in fits], LorentzianFitCovariancesSeparated = [f[1] for f in fits],\n",
    "         LorentzianFitCovarianceFull = [f[2] for f in fits])\n",
    "         \n",
    "         #resonantFieldOe = HFMR_mainpeak, linewidthOe = deltaH_mainpeak,\n",
    "         #resonantFieldErrorOe = HFMR_err_main, linewidthErrorOe = deltaH_err_main,\n",
    "         #peakPhasedeg = phase_mainpeak, peakMagnitude = amp_mainpeak,\n",
    "         #MeffectiveOe = Meff, gilbertDamping = alpha, orbitalgop = gop, intrinsiclinewidthOe = deltaH0,\n",
    "         #resonantFieldFitCoefficients = HFMRfit, linewidthFitCoefficients = deltaHfit)\n",
    "#insert CRO thickness, LSMO thickness into this file??"
   ]
  },
  {
   "cell_type": "code",
   "execution_count": null,
   "metadata": {},
   "outputs": [],
   "source": []
  },
  {
   "cell_type": "code",
   "execution_count": null,
   "metadata": {
    "collapsed": true
   },
   "outputs": [],
   "source": [
    "HFMR_mainpeak = []\n",
    "HFMR_sidepeak = []\n",
    "amp_mainpeak = []\n",
    "amp_sidepeak = []\n",
    "phase_mainpeak = []\n",
    "phase_sidepeak = []\n",
    "deltaH_mainpeak = []\n",
    "deltaH_sidepeak = []\n",
    "freqs_sidepeak = []\n",
    "freqs_peak3 = []\n",
    "HFMR_peak3 = []\n",
    "deltaH_peak3 = []\n",
    "amp_peak3 = []\n",
    "phase_peak3 = []\n",
    "for i,f in enumerate(fits):\n",
    "    if NPeaks[i] != 1:\n",
    "        side = -1\n",
    "        freqs_sidepeak.append(freqs[i])\n",
    "        HFMR_sidepeak.append(f[0][side][1])\n",
    "        deltaH_sidepeak.append(f[0][side][3])\n",
    "        amp_sidepeak.append(f[0][side][0])\n",
    "        phase_sidepeak.append(f[0][side][2])\n",
    "    peak = -2\n",
    "    HFMR_mainpeak.append(f[0][peak][1])\n",
    "    deltaH_mainpeak.append(f[0][peak][3])\n",
    "    amp_mainpeak.append(f[0][peak][0])\n",
    "    phase_mainpeak.append(f[0][peak][2])\n",
    "    if NPeaks[i] == 3:\n",
    "        p3 = -3\n",
    "        freqs_peak3.append(freqs[i])\n",
    "        HFMR_peak3.append(f[0][p3][1])\n",
    "        deltaH_peak3.append(f[0][p3][3])\n",
    "        amp_peak3.append(f[0][p3][0])\n",
    "        phase_peak3.append(f[0][p3][2])"
   ]
  },
  {
   "cell_type": "code",
   "execution_count": null,
   "metadata": {},
   "outputs": [],
   "source": [
    "plt.plot(freqs,HFMR_mainpeak,'.')\n",
    "plt.plot(freqs_sidepeak,HFMR_sidepeak,'.')\n",
    "plt.plot(freqs_peak3,HFMR_peak3,'.')\n",
    "plt.show()\n",
    "plt.plot(freqs,deltaH_mainpeak,'.')\n",
    "plt.plot(freqs_sidepeak,deltaH_sidepeak,'.')\n",
    "plt.plot(freqs_peak3,deltaH_peak3,'.')\n",
    "plt.show()\n",
    "plt.plot(freqs,amp_mainpeak,'.')\n",
    "plt.plot(freqs_sidepeak,amp_sidepeak,'.')\n",
    "plt.plot(freqs_peak3,amp_peak3,'.')\n",
    "plt.show()\n",
    "plt.plot(freqs,phase_mainpeak,'.')\n",
    "plt.plot(freqs_sidepeak,phase_sidepeak,'.')\n",
    "plt.plot(freqs_peak3,phase_peak3,'.')\n",
    "plt.show()"
   ]
  },
  {
   "cell_type": "code",
   "execution_count": null,
   "metadata": {
    "collapsed": true
   },
   "outputs": [],
   "source": [
    "freqs_sidepeak = []\n",
    "HFMR_mainpeak = []\n",
    "HFMR_sidepeak = []\n",
    "HFMR_err_main = []\n",
    "HFMR_err_side = []\n",
    "amp_mainpeak = []\n",
    "amp_sidepeak = []\n",
    "phase_mainpeak = []\n",
    "phase_sidepeak = []\n",
    "deltaH_mainpeak = []\n",
    "deltaH_sidepeak = []\n",
    "deltaH_err_main = []\n",
    "deltaH_err_side = []\n",
    "for i,f in enumerate(fits):\n",
    "    if NPeaks[i] == 2:\n",
    "        amps = [a[0] for a in f[0]]\n",
    "        peak = np.argmax(amps)\n",
    "        \n",
    "        side = np.argmin(amps)\n",
    "        \n",
    "        peak=0\n",
    "        \n",
    "        HFMR_sidepeak.append(f[0][side][1])\n",
    "        HFMR_err_side.append(f[1][side][1])\n",
    "        deltaH_sidepeak.append(f[0][side][3])\n",
    "        deltaH_err_side.append(f[1][side][3])\n",
    "        amp_sidepeak.append(f[0][side][0])\n",
    "        phase_sidepeak.append(f[0][side][2])\n",
    "        freqs_sidepeak.append(freqs[i])\n",
    "    elif NPeaks[i] == 3:\n",
    "        amps = [a[0] for a in f[0]]\n",
    "        peak = np.argmax(amps)\n",
    "        \n",
    "        side = np.argmin(amps)\n",
    "        peak = 0\n",
    "        \n",
    "        HFMR_sidepeak.append(f[0][side][1])\n",
    "        HFMR_err_side.append(f[1][side][1])\n",
    "        deltaH_sidepeak.append(f[0][side][3])\n",
    "        deltaH_err_side.append(f[1][side][3])\n",
    "        amp_sidepeak.append(f[0][side][0])\n",
    "        phase_sidepeak.append(f[0][side][2])\n",
    "        freqs_sidepeak.append(freqs[i])\n",
    "    elif NPeaks[i] == 1:\n",
    "        peak = 0\n",
    "    HFMR_mainpeak.append(f[0][peak][1])\n",
    "    HFMR_err_main.append(f[1][peak][1])\n",
    "    deltaH_mainpeak.append(f[0][peak][3])\n",
    "    deltaH_err_main.append(f[1][peak][3])\n",
    "    amp_mainpeak.append(f[0][peak][0])\n",
    "    phase_mainpeak.append(f[0][peak][2])"
   ]
  },
  {
   "cell_type": "code",
   "execution_count": null,
   "metadata": {},
   "outputs": [],
   "source": [
    "plt.plot(freqs,HFMR_mainpeak,'.',label='max peak')\n",
    "plt.plot(freqs_sidepeak,HFMR_sidepeak,'.',label='side peak')\n",
    "plt.legend()\n",
    "plt.show()\n",
    "plt.plot(freqs,deltaH_mainpeak,'.',label='max peak')\n",
    "plt.plot(freqs_sidepeak,deltaH_sidepeak,'.',label='side peak')\n",
    "plt.legend()\n",
    "plt.show()\n",
    "plt.plot(freqs,amp_mainpeak,'.',label='max peak')\n",
    "plt.plot(freqs_sidepeak,amp_sidepeak,'.',label='side peak')\n",
    "plt.legend()\n",
    "plt.show()\n",
    "plt.plot(freqs,phase_mainpeak,'.',label='max peak')\n",
    "plt.plot(freqs_sidepeak,phase_sidepeak,'.',label='side peak')\n",
    "plt.legend()\n",
    "plt.show()"
   ]
  },
  {
   "cell_type": "markdown",
   "metadata": {},
   "source": [
    "# TODO: measure saturation field from SQUID"
   ]
  },
  {
   "cell_type": "code",
   "execution_count": null,
   "metadata": {},
   "outputs": [],
   "source": [
    "#need to take into account saturation magnetization\n",
    "freqsort = np.argsort(np.array(freqs))\n",
    "\n",
    "freqslice = slice(None,None)\n",
    "HFMRfit = np.polyfit(np.array(HFMR_mainpeak)[freqsort][freqslice],np.array(freqs)[freqsort][freqslice],1)\n",
    "print HFMRfit\n",
    "Meff = -HFMRfit[1]/(HFMRfit[0]*4*np.pi)\n",
    "\n",
    "print 'Meff: '+str(Meff)+' emu/cm^3'\n",
    "\n",
    "h = 6.62607004e-34*1e7 #erg-s\n",
    "muB = 9.274000999e-21 #erg/G\n",
    "mu0 = 1.00000037 #G/Oe - https://www.engineeringtoolbox.com/permeability-d_1923.html\n",
    "giga = 1e9\n",
    "gop = HFMRfit[0]*h/(muB*mu0)*giga\n",
    "print 'gop: '+str(gop)\n",
    "\n",
    "%matplotlib inline\n",
    "plt.errorbar(freqs,HFMR_mainpeak,fmt='.',yerr=HFMR_err_main)\n",
    "plt.errorbar(np.array(freqs)[freqsort][freqslice],np.array(HFMR_mainpeak)[freqsort][freqslice],fmt='.',yerr=np.array(HFMR_err_main)[freqsort][freqslice])\n",
    "plt.plot(np.poly1d(HFMRfit)(HFMR_mainpeak),HFMR_mainpeak,'-',label='corrected')\n",
    "plt.legend()\n",
    "plt.ylabel(r'H$_{FMR}$ (Oe)')\n",
    "plt.xlabel('Frequency (GHz)')"
   ]
  },
  {
   "cell_type": "code",
   "execution_count": null,
   "metadata": {},
   "outputs": [],
   "source": [
    "freqslice = slice(None,None)\n",
    "deltaH = deltaH_mainpeak\n",
    "errdeltaH = deltaH_err_main\n",
    "\n",
    "deltaHfit = np.polyfit(np.array(freqs)[freqsort][freqslice],np.array(deltaH)[freqsort][freqslice],1,w=1./np.array(errdeltaH)[freqsort][freqslice])\n",
    "print deltaHfit\n",
    "\n",
    "deltaH0 = deltaHfit[1]\n",
    "print \"deltaH_0: \"+str(deltaH0)+' Oe'\n",
    "\n",
    "OetoAperm = 1000/(4*np.pi)\n",
    "\n",
    "alpha = deltaHfit[0]*HFMRfit[0]\n",
    "\n",
    "print \"alpha: \"+str(alpha)"
   ]
  },
  {
   "cell_type": "code",
   "execution_count": null,
   "metadata": {},
   "outputs": [],
   "source": [
    "%matplotlib inline\n",
    "plt.errorbar(freqs,deltaH,fmt='.',yerr=errdeltaH, label='corrected')\n",
    "plt.errorbar(np.array(freqs)[freqsort][freqslice],np.array(deltaH)[freqsort][freqslice],fmt='.',yerr=np.array(errdeltaH)[freqsort][freqslice], label='corrected')\n",
    "plt.plot(freqs,np.poly1d(deltaHfit)(freqs),'-',label='corrected')\n",
    "plt.legend()\n",
    "plt.ylabel('FMR Linewidth (Oe)')\n",
    "plt.xlabel('Frequency (GHz)')"
   ]
  },
  {
   "cell_type": "code",
   "execution_count": null,
   "metadata": {
    "collapsed": true
   },
   "outputs": [],
   "source": [
    "outfile = 'ppblsmo20A-20190221-sens10uv-100ms-OP-+8dBm3.0OeRMS'\n",
    "np.savez(outfile, frequenciesGHz = freqs, resonantFieldOe = HFMR_mainpeak, linewidthOe = deltaH_mainpeak,\n",
    "         resonantFieldErrorOe = HFMR_err_main, linewidthErrorOe = deltaH_err_main,\n",
    "         peakPhasedeg = phase_mainpeak, peakMagnitude = amp_mainpeak,\n",
    "         MeffectiveOe = Meff, gilbertDamping = alpha, orbitalgop = gop, intrinsiclinewidthOe = deltaH0,\n",
    "         resonantFieldFitCoefficients = HFMRfit, linewidthFitCoefficients = deltaHfit)\n",
    "#insert CRO thickness, LSMO thickness into this file??"
   ]
  },
  {
   "cell_type": "code",
   "execution_count": null,
   "metadata": {
    "collapsed": true
   },
   "outputs": [],
   "source": []
  }
 ],
 "metadata": {
  "kernelspec": {
   "display_name": "Python 2",
   "language": "python",
   "name": "python2"
  },
  "language_info": {
   "codemirror_mode": {
    "name": "ipython",
    "version": 2
   },
   "file_extension": ".py",
   "mimetype": "text/x-python",
   "name": "python",
   "nbconvert_exporter": "python",
   "pygments_lexer": "ipython2",
   "version": "2.7.14"
  }
 },
 "nbformat": 4,
 "nbformat_minor": 2
}
