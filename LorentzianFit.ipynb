{
 "cells": [
  {
   "cell_type": "code",
   "execution_count": null,
   "metadata": {
    "collapsed": true
   },
   "outputs": [],
   "source": [
    "from fmr_scripts import FMR #if running in another directory - requires PYTHONPATH or sys.path to contain directory containing fmr_scripts\n",
    "#import FMR #if running in same directory\n",
    "import numpy as np\n",
    "import matplotlib.pyplot as plt\n",
    "import glob,os\n",
    "from scipy.interpolate import interp1d"
   ]
  },
  {
   "cell_type": "markdown",
   "metadata": {},
   "source": [
    "#### Read in data"
   ]
  },
  {
   "cell_type": "code",
   "execution_count": null,
   "metadata": {
    "collapsed": true
   },
   "outputs": [],
   "source": [
    "#directory = '/Volumes/Transcend/Suzuki/Data/ppblsmo/FMR/ppblsmo18A-IP110/'\n",
    "#olddir = os.getcwd()\n",
    "#os.chdir(directory)\n",
    "filenames = glob.glob('*.csv')\n",
    "for f in filenames:\n",
    "    print f"
   ]
  },
  {
   "cell_type": "code",
   "execution_count": null,
   "metadata": {
    "collapsed": true
   },
   "outputs": [],
   "source": [
    "#sample specific\n",
    "toremove = ['ppblsmo18A-IP110-20180702-IP-19000MHz-000.0deg-+3dBm3.0OeRMS-0-21.csv']\n",
    "for t in toremove:\n",
    "    filenames.remove(t)\n",
    "for f in filenames:\n",
    "    print f"
   ]
  },
  {
   "cell_type": "code",
   "execution_count": null,
   "metadata": {},
   "outputs": [],
   "source": [
    "Hmeass = []\n",
    "dPdHs = []\n",
    "phases = []\n",
    "freqs = []\n",
    "angs = []\n",
    "Hreadscales = []\n",
    "Hreadoffs = []\n",
    "for filename in filenames:\n",
    "    print filename\n",
    "    Hmeas, dPdH, phase = FMR.readFileTruncatePos(filename)\n",
    "    Hmeass.append(Hmeas)\n",
    "    dPdHs.append(dPdH)\n",
    "    phases.append(phase)\n",
    "    freq = int(filename.partition('MHz')[0].rpartition('-')[-1])/1000.\n",
    "    freqs.append(freq)\n",
    "    ang = float(filename.partition('deg')[0].rpartition('-')[-1])\n",
    "    angs.append(ang)\n",
    "    Hreadscale = float(filename.partition('scale')[-1].partition('-')[0])\n",
    "    Hreadscales.append(Hreadscale)\n",
    "    Hreadoffpart = filename.partition('off')[-1].partition('-')\n",
    "    Hreadoff = float(Hreadoffpart[0]) if Hreadoffpart[0] != '' else -float(Hreadoffpart[-1].partition('-')[0])\n",
    "    Hreadoffs.append(Hreadoff)\n",
    "\n",
    "#os.chdir(olddir)"
   ]
  },
  {
   "cell_type": "markdown",
   "metadata": {},
   "source": [
    "#### Gaussmeter calibration"
   ]
  },
  {
   "cell_type": "code",
   "execution_count": null,
   "metadata": {},
   "outputs": [],
   "source": [
    "gaussmeter = np.load('../0 H-field Calibration/190626/fieldcalib190626.npz')\n",
    "print gaussmeter['h_read_scale']\n",
    "print Hreadscales\n",
    "print gaussmeter['h_read_offset']\n",
    "print Hreadoffs\n",
    "gaussfit = interp1d(gaussmeter['twosupply_measuredH'], gaussmeter['twosupply_actualH'],kind='cubic')"
   ]
  },
  {
   "cell_type": "code",
   "execution_count": null,
   "metadata": {},
   "outputs": [],
   "source": [
    "Hs = []\n",
    "for i,Hmeas in enumerate(Hmeass):\n",
    "    #field recorded in the file is field_measured*h_read_scale+h_read_off - instead we are correcting this to a better calibration from measured -> actual H\n",
    "    Hs.append(gaussfit((np.array(Hmeas)-Hreadoffs[i])/Hreadscales[i]))"
   ]
  },
  {
   "cell_type": "code",
   "execution_count": null,
   "metadata": {
    "collapsed": true
   },
   "outputs": [],
   "source": [
    "%matplotlib inline\n",
    "for i,H in enumerate(Hs):\n",
    "    print filenames[i]\n",
    "    print str(i)+': '+str(freqs[i])+' GHz, '+str(angs[i])+' deg'\n",
    "    plt.plot(H,dPdHs[i],label='corrected')\n",
    "    plt.plot(Hmeass[i],dPdHs[i],label='arbitrary scaling')\n",
    "    imax = np.argmax(dPdHs[i])\n",
    "    plt.plot(H[imax],dPdHs[i][imax],'*')\n",
    "    imin = np.argmin(dPdHs[i])\n",
    "    plt.plot(H[imin],dPdHs[i][imin],'*')\n",
    "    plt.legend()\n",
    "    plt.show()"
   ]
  },
  {
   "cell_type": "code",
   "execution_count": null,
   "metadata": {
    "collapsed": true
   },
   "outputs": [],
   "source": [
    "%matplotlib inline\n",
    "for i,H in enumerate(Hs):\n",
    "    print freqs[i]\n",
    "    plt.plot(H,phases[i])\n",
    "    plt.show()"
   ]
  },
  {
   "cell_type": "markdown",
   "metadata": {},
   "source": [
    "#### Subtract background"
   ]
  },
  {
   "cell_type": "code",
   "execution_count": null,
   "metadata": {},
   "outputs": [],
   "source": [
    "%matplotlib inline\n",
    "dPdHoffsets = []\n",
    "windows = [10]*len(dPdHs)\n",
    "for i,H in enumerate(Hs):\n",
    "    dPdH = dPdHs[i]\n",
    "    fitBG = FMR.subtractBG(H,dPdH,window=windows[i])\n",
    "    print str(i)+': '+str(freqs[i])+' GHz, '+str(angs[i])+' deg'\n",
    "    plt.show()\n",
    "    dPdHoffset = dPdH - fitBG\n",
    "    dPdHoffsets.append(dPdHoffset)"
   ]
  },
  {
   "cell_type": "code",
   "execution_count": null,
   "metadata": {
    "scrolled": true
   },
   "outputs": [],
   "source": [
    "#i = 2\n",
    "#H = Hs[i]\n",
    "#dPdH = dPdHs[i]\n",
    "#fitBG = FMR.subtractBG(Hs[i],dPdH,window=10)\n",
    "#plt.show()\n",
    "#print freqs[i]"
   ]
  },
  {
   "cell_type": "markdown",
   "metadata": {},
   "source": [
    "#### Fit peaks"
   ]
  },
  {
   "cell_type": "code",
   "execution_count": null,
   "metadata": {},
   "outputs": [],
   "source": [
    "NPeaks = [2]*len(freqs)\n",
    "guessPos = ['Center']*len(freqs)\n",
    "widths=[3]*len(freqs)\n",
    "fits = []\n",
    "%matplotlib inline\n",
    "for i,H in enumerate(Hs):\n",
    "    dPdHoffset = dPdHoffsets[i]\n",
    "    guess = FMR.guessN(H,dPdHoffset,NPeaks[i],width=widths[i],pos=guessPos[i])\n",
    "    fit = FMR.fitFMR(H,dPdHoffset,guess)\n",
    "    fits.append(fit)\n",
    "    print str(i)+': '+str(freqs[i])+' GHz, '+str(angs[i])+' deg'\n",
    "    plt.show()"
   ]
  },
  {
   "cell_type": "code",
   "execution_count": null,
   "metadata": {},
   "outputs": [],
   "source": [
    "#%matplotlib inline\n",
    "#i = 12\n",
    "#print guessPos[i]\n",
    "#print NPeaks[i]\n",
    "#print widths[i]\n",
    "#print str(i)+': '+str(freqs[i])\n",
    "#dPdHoffset = dPdHoffsets[i]\n",
    "#guess = FMR.guessN(Hs[i],dPdHoffset,1,width=3,pos='Center')\n",
    "#fit = FMR.fitFMR(Hs[i],dPdHoffset,guess,debug=True)\n",
    "#plt.show()\n",
    "#guess = FMR.guessN(Hs[i],dPdHoffset,2,width=3,pos='Left')\n",
    "#fit = FMR.fitFMR(Hs[i],dPdHoffset,guess,debug=True)\n",
    "#plt.show()\n",
    "#print fit[0]"
   ]
  },
  {
   "cell_type": "markdown",
   "metadata": {},
   "source": [
    "#### Save curves and fits"
   ]
  },
  {
   "cell_type": "code",
   "execution_count": null,
   "metadata": {},
   "outputs": [],
   "source": [
    "fname = filenames[0].partition('-Hread')[0]\n",
    "outfile = fname+'-curves'\n",
    "csort = np.lexsort([freqs,angs])\n",
    "np.savez(outfile, frequenciesGHz = np.array(freqs)[csort], anglesdeg = np.array(angs)[csort],\n",
    "         fieldOe = np.array(Hs)[csort], powerderivV = np.array(dPdHoffsets)[csort], phaseDeg = np.array(phases)[csort],\n",
    "         fittedpeaks = np.array(fits)[csort])"
   ]
  },
  {
   "cell_type": "markdown",
   "metadata": {},
   "source": [
    "#### Extract fit parameters"
   ]
  },
  {
   "cell_type": "code",
   "execution_count": null,
   "metadata": {
    "collapsed": true
   },
   "outputs": [],
   "source": [
    "HFMR = []\n",
    "errHFMR = []\n",
    "deltaH = []\n",
    "errdeltaH = []\n",
    "phaseLorentzian = []\n",
    "errphaseLorentzian = []\n",
    "peakMagnitude = []\n",
    "errpeakMagnitude = []\n",
    "for i,f in enumerate(fits):\n",
    "    peakMagnitude.append(np.array([f[0][n][0] for n in np.arange(0,NPeaks[i])]))\n",
    "    HFMR.append(np.array([f[0][n][1] for n in np.arange(0,NPeaks[i])]))\n",
    "    phaseLorentzian.append(np.array([f[0][n][2] for n in np.arange(0,NPeaks[i])]))\n",
    "    deltaH.append(np.array([f[0][n][3] for n in np.arange(0,NPeaks[i])]))\n",
    "    errpeakMagnitude.append(np.array([f[1][n][0] for n in np.arange(0,NPeaks[i])]))\n",
    "    errHFMR.append(np.array([f[1][n][1] for n in np.arange(0,NPeaks[i])]))\n",
    "    errphaseLorentzian.append(np.array([f[1][n][2] for n in np.arange(0,NPeaks[i])]))\n",
    "    errdeltaH.append(np.array([f[1][n][3] for n in np.arange(0,NPeaks[i])]))"
   ]
  },
  {
   "cell_type": "code",
   "execution_count": null,
   "metadata": {},
   "outputs": [],
   "source": [
    "#essentially a reslicing\n",
    "N = np.max(NPeaks)\n",
    "freqsN = []\n",
    "angsN = []\n",
    "HFMRN = []\n",
    "errHFMRN = []\n",
    "deltaHN = []\n",
    "errdeltaHN = []\n",
    "phaseLorentzianN = []\n",
    "errphaseLorentzianN = []\n",
    "peakMagnitudeN = []\n",
    "errpeakMagnitudeN = []\n",
    "for n in np.arange(0,N):\n",
    "    whichcurves = np.where(np.array(NPeaks) > n)[0]\n",
    "    freqsN.append(np.array(freqs)[whichcurves])\n",
    "    angsN.append(np.array(angs)[whichcurves])\n",
    "    HFMRN.append(np.array([HFMR[i][n] for i in whichcurves]))\n",
    "    errHFMRN.append(np.array([errHFMR[i][n] for i in whichcurves]))\n",
    "    deltaHN.append(np.array([deltaH[i][n] for i in whichcurves]))\n",
    "    errdeltaHN.append(np.array([errdeltaH[i][n] for i in whichcurves]))\n",
    "    phaseLorentzianN.append(np.array([phaseLorentzian[i][n] for i in whichcurves]))\n",
    "    errphaseLorentzianN.append(np.array([errphaseLorentzian[i][n] for i in whichcurves]))\n",
    "    peakMagnitudeN.append(np.array([peakMagnitude[i][n] for i in whichcurves]))\n",
    "    errpeakMagnitudeN.append(np.array([errpeakMagnitude[i][n] for i in whichcurves]))"
   ]
  },
  {
   "cell_type": "code",
   "execution_count": null,
   "metadata": {},
   "outputs": [],
   "source": [
    "#HFMRfit = np.polyfit(HFMR[0][10:],freqs[10:],1)\n",
    "#print HFMRfit\n",
    "#Meff = -HFMRfit[1]/HFMRfit[0]\n",
    "#print Meff\n",
    "#gop = HFMRfit[0]*h/(muB*mu0) #insert h, muB, mu0 in correct units"
   ]
  },
  {
   "cell_type": "code",
   "execution_count": null,
   "metadata": {},
   "outputs": [],
   "source": [
    "%matplotlib inline\n",
    "for n in np.arange(0,N):\n",
    "    plt.errorbar(freqsN[n],HFMRN[n],fmt='.',yerr=errHFMRN[n], label=str(n+1)+'th Peak')\n",
    "#    plt.plot(np.poly1d(HFMRfit)(HFMRN[n]),HFMRN[n],'-')\n",
    "plt.ylabel('HFMR (Oe)')\n",
    "plt.xlabel('Frequency (Hz)')\n",
    "plt.legend()\n",
    "plt.show()"
   ]
  },
  {
   "cell_type": "code",
   "execution_count": null,
   "metadata": {},
   "outputs": [],
   "source": [
    "%matplotlib inline\n",
    "for n in np.arange(0,N):\n",
    "    plt.errorbar(freqsN[n],deltaHN[n],fmt='.',yerr=errdeltaHN[n], label=str(n+1)+'th Peak')\n",
    "plt.ylabel('FMR Linewidth (Oe)')\n",
    "plt.xlabel('Frequency (Hz)')\n",
    "plt.legend()\n",
    "plt.show()"
   ]
  },
  {
   "cell_type": "code",
   "execution_count": null,
   "metadata": {},
   "outputs": [],
   "source": [
    "%matplotlib inline\n",
    "for n in np.arange(0,N):\n",
    "    plt.errorbar(freqsN[n],phaseLorentzianN[n],fmt='.',yerr=errphaseLorentzianN[n], label=str(n+1)+'th Peak')\n",
    "plt.ylabel('Phase (deg)')\n",
    "plt.xlabel('Frequency (Hz)')\n",
    "plt.legend()\n",
    "plt.show()"
   ]
  },
  {
   "cell_type": "code",
   "execution_count": null,
   "metadata": {
    "collapsed": true
   },
   "outputs": [],
   "source": [
    "%matplotlib inline\n",
    "for n in np.arange(0,N):\n",
    "    plt.errorbar(freqsN[n],peakMagnitudeN[n],fmt='.',yerr=errpeakMagnitudeN[n], label=str(n+1)+'th Peak')\n",
    "plt.ylabel('Magnitude (a.u.)')\n",
    "plt.xlabel('Frequency (Hz)')\n",
    "plt.legend()\n",
    "plt.show()"
   ]
  },
  {
   "cell_type": "markdown",
   "metadata": {},
   "source": [
    "#### Save parameters"
   ]
  },
  {
   "cell_type": "code",
   "execution_count": null,
   "metadata": {
    "collapsed": true
   },
   "outputs": [],
   "source": [
    "np.savez(fname, frequenciesGHz = freqs, anglesdeg = angs,\n",
    "         resonantFieldsOe = HFMR, linewidthsOe = deltaH,\n",
    "         resonantFieldsErrorOe = errHFMR, linewidthsErrorOe = errdeltaH,\n",
    "         peakPhasesdeg = phaseLorentzian, peakMagnitude = peakMagnitude,\n",
    "         peakPhasesErrordeg = errphaseLorentzian, peakMagnitudeError = errpeakMagnitude)"
   ]
  }
 ],
 "metadata": {
  "kernelspec": {
   "display_name": "Python 2",
   "language": "python",
   "name": "python2"
  },
  "language_info": {
   "codemirror_mode": {
    "name": "ipython",
    "version": 2
   },
   "file_extension": ".py",
   "mimetype": "text/x-python",
   "name": "python",
   "nbconvert_exporter": "python",
   "pygments_lexer": "ipython2",
   "version": "2.7.16"
  }
 },
 "nbformat": 4,
 "nbformat_minor": 2
}
