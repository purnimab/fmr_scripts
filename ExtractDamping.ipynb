{
 "cells": [
  {
   "cell_type": "markdown",
   "metadata": {},
   "source": [
    "We have already extracted $H^{FMR}$ and $\\Delta H$ from FMR spectra for each excitation microwave frequency. That is, from the set {$f_i$, $H_{ij}$, $dP/dH_{ij}$} we have extracted {$f_i$, $H^{FMR}_i$, $\\Delta H_i$} as well as the covariances $$V_{ij} = \\begin{bmatrix} \\sigma_{H^{FMR}_i}^2 & Cov\\left(H^{FMR}_i, \\Delta H_i\\right) \\\\ Cov\\left(H^{FMR}_i, \\Delta H_i\\right) & \\sigma_{\\Delta H_i}\\end{bmatrix}$$\n",
    "We know that $$f = \\frac{g\\mu_b\\mu_0}{h}\\left[H_{FMR}-M_{eff}\\right]$$ and $$\\Delta H = \\Delta H_0 + \\frac{h}{g\\mu_B\\mu_0} \\alpha f$$ but since the two variables are correlated, we will use $f$ as the \"$x$\" value and fit the \"$y$\" values together using a linear least squares fit $$\\begin{align} \\vec{\\mu} &= A\\vec{\\theta} \\\\ \\begin{bmatrix}H_{FMR} \\\\ \\Delta H\\end{bmatrix} &= \\begin{bmatrix}1 & f & 0 & 0 \\\\ 0 & 0 & 1 & f\\end{bmatrix} \\begin{bmatrix} M_{eff} \\\\ \\frac{h}{g\\mu_B\\mu_0} \\\\ \\Delta H_0 \\\\ \\frac{h\\alpha}{g\\mu_B\\mu_0} \\end{bmatrix}\\end{align}$$"
   ]
  },
  {
   "cell_type": "code",
   "execution_count": null,
   "metadata": {
    "collapsed": true
   },
   "outputs": [],
   "source": [
    "import numpy as np\n",
    "import matplotlib.pyplot as plt\n",
    "import glob,os"
   ]
  },
  {
   "cell_type": "code",
   "execution_count": null,
   "metadata": {
    "collapsed": true
   },
   "outputs": [],
   "source": [
    "#extract parameters from files\n",
    "infile = '../ppblsmo20A-OOP-redo-highsens/ppblsmo20A-20190221-peakfits.npz'\n",
    "data = np.load(infile)"
   ]
  },
  {
   "cell_type": "code",
   "execution_count": null,
   "metadata": {},
   "outputs": [],
   "source": [
    "data.files"
   ]
  },
  {
   "cell_type": "code",
   "execution_count": null,
   "metadata": {
    "collapsed": true
   },
   "outputs": [],
   "source": [
    "sort = np.argsort(data['frequenciesGHz'])\n",
    "freqs = data['frequenciesGHz'][sort]\n",
    "fitparams = data['LorentzianFitParamsSeparated'][sort]\n",
    "fitcov = data['LorentzianFitCovariancesSeparated'][sort]\n",
    "fitcovfull = data['LorentzianFitCovarianceFull'][sort]"
   ]
  },
  {
   "cell_type": "code",
   "execution_count": null,
   "metadata": {},
   "outputs": [],
   "source": [
    "mainpeak = []\n",
    "for i,f in enumerate(fitparams):\n",
    "    NPeaks = len(f)\n",
    "    peakamplitudes = [a[0] for a in f]\n",
    "    mainpeak.append(np.argmax(peakamplitudes)) #the main peak is the one with the largest amplitude\n",
    "    #maybe it should be the one with the lowest chi^2 with only that peak?\n",
    "    \n",
    "print mainpeak"
   ]
  },
  {
   "cell_type": "code",
   "execution_count": null,
   "metadata": {
    "collapsed": true
   },
   "outputs": [],
   "source": [
    "Y = np.zeros(2*len(freqs))\n",
    "A = np.zeros((2*len(freqs), 4))\n",
    "V = np.zeros((2*len(freqs), 2*len(freqs)))\n",
    "\n",
    "for i,f in enumerate(freqs):\n",
    "    params = [1,3] #H_FMR, \\Delta H\n",
    "    \n",
    "    Y[2*i] = fitparams[i][mainpeak[i]][params[0]] #H_FMR\n",
    "    Y[2*i + 1] = fitparams[i][mainpeak[i]][params[1]] #Delta\\H\n",
    "    \n",
    "    A[2*i][0] = 1.\n",
    "    A[2*i][1] = f\n",
    "    A[2*i + 1][2] = 1.\n",
    "    A[2*i + 1][3] = f\n",
    "    \n",
    "    V[2*i:2*i+2, 2*i:2*i+2] = fitcov[i][mainpeak[i]][params][:,params]"
   ]
  },
  {
   "cell_type": "code",
   "execution_count": null,
   "metadata": {},
   "outputs": [],
   "source": [
    "#exact calculation instead of minimizing chi^2 (which could lead to some errors if the minimum is very shallow)\n",
    "Vinv = np.linalg.inv(V)\n",
    "AtVinv = np.matmul(A.transpose(),Vinv)\n",
    "varTheta = np.linalg.inv(np.matmul(AtVinv,A))\n",
    "theta = np.matmul(np.matmul(varTheta,AtVinv),Y)\n",
    "\n",
    "def chi2(Y, A, V, theta):\n",
    "    Vinv = np.linalg.inv(V)\n",
    "    diff = Y - np.matmul(A,theta)\n",
    "    chi2 = np.matmul(np.matmul(diff.transpose(),Vinv),diff)\n",
    "    return chi2\n",
    "\n",
    "mu = np.matmul(A,theta)\n",
    "chi2min = chi2(Y,A,V,theta)\n",
    "df = len(Y) - len(theta)\n",
    "print \"goodness of fit: \"+str(chi2min/df)"
   ]
  },
  {
   "cell_type": "code",
   "execution_count": null,
   "metadata": {},
   "outputs": [],
   "source": [
    "%matplotlib inline\n",
    "plt.errorbar(freqs,Y[::2],yerr=[np.sqrt(v[i]) for i,v in enumerate(V)][::2],fmt='.',label='data')\n",
    "plt.plot(freqs,mu[::2],'-',label='fit')\n",
    "plt.xlabel('Frequency (GHz)')\n",
    "plt.ylabel('Resonant Field (Oe)')\n",
    "plt.legend()"
   ]
  },
  {
   "cell_type": "code",
   "execution_count": null,
   "metadata": {},
   "outputs": [],
   "source": [
    "%matplotlib inline\n",
    "plt.errorbar(freqs,Y[1::2],yerr=[np.sqrt(v[i]) for i,v in enumerate(V)][1::2],fmt='.',label='data')\n",
    "plt.plot(freqs,mu[1::2],label='fit')\n",
    "plt.xlabel('Frequency (GHz)')\n",
    "plt.ylabel('Linewidth (Oe)')\n",
    "plt.legend()"
   ]
  },
  {
   "cell_type": "code",
   "execution_count": null,
   "metadata": {},
   "outputs": [],
   "source": [
    "Meff = theta[0]/(4.*np.pi)\n",
    "eMeff = np.sqrt(varTheta[0][0])/(4.*np.pi)\n",
    "print 'Meff = '+str(Meff)+' pm '+str(eMeff)+' emu/cc'"
   ]
  },
  {
   "cell_type": "code",
   "execution_count": null,
   "metadata": {},
   "outputs": [],
   "source": [
    "h = 6.62607004e-34*1e7 #erg-s\n",
    "muB = 9.274000999e-21 #erg/G\n",
    "mu0 = 1.00000037 #G/Oe - https://www.engineeringtoolbox.com/permeability-d_1923.html\n",
    "giga = 1e9\n",
    "\n",
    "gop = h/(muB*mu0)*giga/theta[1]\n",
    "egop = np.sqrt(varTheta[1][1])*gop/theta[1]\n",
    "print 'gop = '+str(gop)+' pm '+str(egop)"
   ]
  },
  {
   "cell_type": "code",
   "execution_count": null,
   "metadata": {},
   "outputs": [],
   "source": [
    "deltaH0 = theta[2]\n",
    "edeltaH0 = np.sqrt(varTheta[2][2])\n",
    "print 'delta H 0 = '+str(deltaH0)+' pm '+str(edeltaH0)"
   ]
  },
  {
   "cell_type": "code",
   "execution_count": null,
   "metadata": {},
   "outputs": [],
   "source": [
    "alpha = theta[3]/theta[1]\n",
    "ealpha = np.sqrt(varTheta[3][3]/theta[1]**2 + varTheta[1][1]*theta[3]**2/theta[1]**4 -2.*varTheta[1][3]*theta[3]/theta[1]**3)\n",
    "print 'alpha = '+str(alpha)+' pm '+str(ealpha)"
   ]
  },
  {
   "cell_type": "code",
   "execution_count": null,
   "metadata": {
    "collapsed": true
   },
   "outputs": [],
   "source": [
    "alphas = np.linspace(alpha-3.*ealpha,alpha+3.*ealpha,100)\n",
    "chis = [chi2(Y, A, V, np.array(list(theta[:3])+[a*theta[1]])) for a in alphas]"
   ]
  },
  {
   "cell_type": "code",
   "execution_count": null,
   "metadata": {},
   "outputs": [],
   "source": [
    "%matplotlib inline\n",
    "import scipy.stats as st\n",
    "CLs = [0.68, 0.95, 0.99]\n",
    "q = st.chi2.ppf(CLs,4)\n",
    "\n",
    "plt.plot(alphas,chis)\n",
    "for i,b in enumerate(q):\n",
    "    plt.plot(alphas,np.ones_like(alphas)*(np.min(chis)+b),label=str(CLs[i]*100.)+'%')\n",
    "plt.xlabel(r'$\\alpha$')\n",
    "plt.ylabel(r'$\\chi^2$')\n",
    "plt.legend()"
   ]
  },
  {
   "cell_type": "code",
   "execution_count": null,
   "metadata": {
    "collapsed": true
   },
   "outputs": [],
   "source": [
    "gs = np.linspace(gop-3.*egop,gop+3.*egop,100)\n",
    "chis = [chi2(Y, A, V, np.array([theta[0],h/(muB*mu0)*giga/g,theta[2],theta[3]])) for g in gs]\n",
    "#chis = [[chi2(Y, A, V, np.array([theta[0],g/h*(muB*mu0)/giga,theta[2],a*g/h*(muB*mu0)/giga])) for g in gs] for a in alphas]"
   ]
  },
  {
   "cell_type": "code",
   "execution_count": null,
   "metadata": {},
   "outputs": [],
   "source": [
    "%matplotlib inline\n",
    "import scipy.stats as st\n",
    "CLs = [0.68, 0.95, 0.99]\n",
    "q = st.chi2.ppf(CLs,4)\n",
    "\n",
    "plt.plot(gs,chis)\n",
    "for i,b in enumerate(q):\n",
    "    plt.plot(gs,np.ones_like(gs)*(np.min(chis)+b),label=str(CLs[i]*100.)+'%')\n",
    "plt.xlabel(r'$g_{op}$')\n",
    "plt.ylabel(r'$\\chi^2$')\n",
    "plt.legend()"
   ]
  },
  {
   "cell_type": "code",
   "execution_count": null,
   "metadata": {
    "collapsed": true
   },
   "outputs": [],
   "source": [
    "chis = [[chi2(Y, A, V, np.array([theta[0],h/(muB*mu0)*giga/g,theta[2],a*h/(muB*mu0)*giga/g])) for g in gs] for a in alphas]"
   ]
  },
  {
   "cell_type": "code",
   "execution_count": null,
   "metadata": {},
   "outputs": [],
   "source": [
    "chis = np.array(chis)\n",
    "\n",
    "ind = np.unravel_index(np.argmin(chis, axis=None), chis.shape)\n",
    "print ind\n",
    "\n",
    "m = np.min(chis)\n",
    "levels = m+np.array(q)\n",
    "    \n",
    "%matplotlib inline\n",
    "\n",
    "fig1, ax1 = plt.subplots()\n",
    "\n",
    "# Basic contour plot\n",
    "CS1 = ax1.contour(alphas,gs,chis,levels)\n",
    "ax1.plot(alpha,gop,'o')\n",
    "ax1.plot(alphas[ind[1]],gs[ind[0]],'*')\n",
    "\n",
    "fmt = {}\n",
    "for l, s in zip(CS1.levels, [str(c*100.)+'%' for c in CLs]):\n",
    "    fmt[l] = s\n",
    "\n",
    "# Label every other level using strings\n",
    "ax1.clabel(CS1, CS1.levels, inline=True, fmt=fmt)#, fontsize=10)\n",
    "plt.xlabel(r'$\\alpha$')\n",
    "plt.ylabel(r'$g_{op}$')\n",
    "plt.title(r'$\\chi^2$ Contour plot')\n",
    "\n",
    "#s = allparams.shape\n",
    "#for l in np.arange(0,s[0]):\n",
    "#    for m in np.arange(0,s[1]):\n",
    "        \n",
    "\n",
    "#print allparams.shape\n",
    "#model = FMR.LorentzianDerivativeNWrapper(Hs[i],allparams)\n",
    "#making a triangle plot\n",
    "\n",
    "covag = theta[3]*varTheta[1][1]*g/theta[1]**3 -g/theta[1]**2*varTheta[1][3]\n",
    "print 'rho = '+str(covag/(ealpha*egop))"
   ]
  },
  {
   "cell_type": "code",
   "execution_count": null,
   "metadata": {
    "collapsed": true
   },
   "outputs": [],
   "source": []
  }
 ],
 "metadata": {
  "kernelspec": {
   "display_name": "Python 2",
   "language": "python",
   "name": "python2"
  },
  "language_info": {
   "codemirror_mode": {
    "name": "ipython",
    "version": 2
   },
   "file_extension": ".py",
   "mimetype": "text/x-python",
   "name": "python",
   "nbconvert_exporter": "python",
   "pygments_lexer": "ipython2",
   "version": "2.7.14"
  }
 },
 "nbformat": 4,
 "nbformat_minor": 2
}
