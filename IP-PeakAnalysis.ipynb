{
 "cells": [
  {
   "cell_type": "code",
   "execution_count": null,
   "metadata": {},
   "outputs": [],
   "source": [
    "from fmr_scripts import FMR #if running in another directory - requires PYTHONPATH or sys.path to contain directory containing fmr_scripts\n",
    "#import FMR #if running in same directory\n",
    "import numpy as np\n",
    "import matplotlib.pyplot as plt\n",
    "import glob,os\n",
    "from scipy.interpolate import interp1d\n",
    "from scipy.optimize import curve_fit"
   ]
  },
  {
   "cell_type": "code",
   "execution_count": null,
   "metadata": {},
   "outputs": [],
   "source": [
    "filenames = glob.glob('*.npz')\n",
    "print np.array(filenames)[np.argwhere(np.array([f.find('-fitparams') for f in filenames]) > -1).flatten()]\n",
    "filename = filenames[np.argwhere(np.array([f.find('-fitparams') for f in filenames]) > -1)[0][0]]\n",
    "print filename"
   ]
  },
  {
   "cell_type": "code",
   "execution_count": null,
   "metadata": {},
   "outputs": [],
   "source": [
    "extractedparams = np.load(filename)\n",
    "extractedparams.files"
   ]
  },
  {
   "cell_type": "code",
   "execution_count": null,
   "metadata": {},
   "outputs": [],
   "source": [
    "NPeaks = [len(f) for f in extractedparams['resonantFieldsOe']]\n",
    "print NPeaks"
   ]
  },
  {
   "cell_type": "code",
   "execution_count": null,
   "metadata": {},
   "outputs": [],
   "source": [
    "#essentially a reslicing\n",
    "def extract(data, field, n, whichcurves):\n",
    "    return np.array([data[field][i][n] for i in whichcurves])\n",
    "\n",
    "N = np.max(NPeaks)\n",
    "freqsN = []\n",
    "angsN = []\n",
    "HFMRN = []\n",
    "errHFMRN = []\n",
    "deltaHN = []\n",
    "errdeltaHN = []\n",
    "phaseLorentzianN = []\n",
    "errphaseLorentzianN = []\n",
    "peakMagnitudeN = []\n",
    "errpeakMagnitudeN = []\n",
    "for n in np.arange(0,N):\n",
    "    whichcurves = np.where(np.array(NPeaks) > n)[0]\n",
    "    freqsN.append(extractedparams['frequenciesGHz'][whichcurves])\n",
    "    angsN.append(extractedparams['anglesdeg'][whichcurves])\n",
    "    HFMRN.append(extract(extractedparams,'resonantFieldsOe',n,whichcurves))\n",
    "    errHFMRN.append(extract(extractedparams,'resonantFieldsErrorOe',n,whichcurves))\n",
    "    deltaHN.append(extract(extractedparams,'linewidthsOe',n,whichcurves))\n",
    "    errdeltaHN.append(extract(extractedparams,'linewidthsErrorOe',n,whichcurves))\n",
    "    phaseLorentzianN.append(extract(extractedparams,'peakPhasesdeg',n,whichcurves))\n",
    "    errphaseLorentzianN.append(extract(extractedparams,'peakPhasesErrordeg',n,whichcurves))\n",
    "    peakMagnitudeN.append(extract(extractedparams,'peakMagnitude',n,whichcurves))\n",
    "    errpeakMagnitudeN.append(extract(extractedparams,'peakMagnitudeError',n,whichcurves))"
   ]
  },
  {
   "cell_type": "markdown",
   "metadata": {},
   "source": [
    "#### Analysis picking a single mode"
   ]
  },
  {
   "cell_type": "markdown",
   "metadata": {},
   "source": [
    "#### Systematically determine which frequency points to discard (saturation magnetization? poor waveguide coupling?)"
   ]
  },
  {
   "cell_type": "code",
   "execution_count": null,
   "metadata": {},
   "outputs": [],
   "source": [
    "#need to take into account saturation magnetization\n",
    "h = 6.62607004e-34*1e7 #erg-s\n",
    "muB = 9.274000999e-21 #erg/G\n",
    "#mu0 = 1.00000037 #G/Oe - https://www.engineeringtoolbox.com/permeability-d_1923.html\n",
    "mu0 = 1. #actually measured in G not Oe\n",
    "giga = 1e9"
   ]
  },
  {
   "cell_type": "code",
   "execution_count": null,
   "metadata": {},
   "outputs": [],
   "source": [
    "OetoAperm = 1000/(4*np.pi)"
   ]
  },
  {
   "cell_type": "code",
   "execution_count": null,
   "metadata": {},
   "outputs": [],
   "source": [
    "def IPresfield(HFMR,factor,Hcubic,angle,Meff):\n",
    "    return factor*np.sqrt((HFMR+Hcubic*np.cos(4.*angle))*(HFMR+4.*np.pi*Meff+Hcubic/4.*(3.+np.cos(4.*angle))))/giga"
   ]
  },
  {
   "cell_type": "code",
   "execution_count": null,
   "metadata": {},
   "outputs": [],
   "source": [
    "def IPlinewidth(f,H0,alpha,ms,g100,g110):\n",
    "    angle = HFMRfit[0][2]\n",
    "    gmuBmu0h = HFMRfit[0][0]\n",
    "    fm = gmuBmu0h*4.*np.pi*ms\n",
    "    sqrt = np.sqrt((f*giga)**2+(fm/2.)**2)\n",
    "    mag = np.arcsin(np.sqrt((sqrt-fm/2.)/(sqrt+fm/2.)))\n",
    "    return H0 + alpha/gmuBmu0h*f*giga + g100*mag*np.cos(2.*angle)**2 + g110*mag*np.cos(2.*(angle-np.pi/4.))**2"
   ]
  },
  {
   "cell_type": "code",
   "execution_count": null,
   "metadata": {},
   "outputs": [],
   "source": [
    "Meff = []\n",
    "gip = []\n",
    "Hcubic = []\n",
    "phi = []\n",
    "\n",
    "deltaH0 = []\n",
    "alpha = []\n",
    "ms = []\n",
    "g100 = []\n",
    "g110 = []\n",
    "\n",
    "HFMRfits = []\n",
    "deltaHfits = []\n",
    "\n",
    "guessH = np.array([2*muB*mu0/h, 2.5/mu0, np.pi/4., 240.])\n",
    "start = np.arange(0,len(freqsN[0])-3)\n",
    "\n",
    "for i in start:\n",
    "    freqslice = slice(i,None)\n",
    "    \n",
    "    HFMRfit = curve_fit(IPresfield,np.array(HFMRN[0][freqslice]),freqsN[0][freqslice],guessH)\n",
    "    HFMRfits.append(HFMRfit)\n",
    "    Meff.append(HFMRfit[0][-1]*4*np.pi)\n",
    "    gip.append(HFMRfit[0][0]*h/(muB*mu0))\n",
    "    Hcubic.append(HFMRfit[0][1]*mu0/10.)\n",
    "    phi.append(np.rad2deg(HFMRfit[0][2])%360)\n",
    "    \n",
    "    guessdH = np.array([0., .006, HFMRfit[0][-1], 6e8/HFMRfit[0][0] ,3e8/HFMRfit[0][0]])#, HFMRfit[0][2]])\n",
    "    \n",
    "    deltaHfit = curve_fit(IPlinewidth,freqsN[0][freqslice],np.array(deltaHN[0][freqslice]),guessdH,bounds=(0.,np.inf))\n",
    "    deltaHfits.append(deltaHfit)\n",
    "    deltaH0.append(deltaHfit[0][0])    \n",
    "    alpha.append(deltaHfit[0][1])\n",
    "    ms.append(deltaHfit[0][2])\n",
    "    g100.append(deltaHfit[0][3]*HFMRfit[0][0]/1e6)\n",
    "    g110.append(deltaHfit[0][4]*HFMRfit[0][0]/1e6)"
   ]
  },
  {
   "cell_type": "code",
   "execution_count": null,
   "metadata": {},
   "outputs": [],
   "source": [
    "%matplotlib notebook\n",
    "plt.errorbar(freqsN[0],HFMRN[0],fmt='.',yerr=errHFMRN[0])\n",
    "for i in start:\n",
    "    if i < 8:\n",
    "        plt.plot(IPresfield(HFMRN[0],*HFMRfits[i][0]),HFMRN[0],'-',label=str(i))\n",
    "plt.legend()\n",
    "plt.xlabel('f (GHz)')\n",
    "plt.ylabel('HFMR OOP (Oe)')"
   ]
  },
  {
   "cell_type": "code",
   "execution_count": null,
   "metadata": {},
   "outputs": [],
   "source": [
    "%matplotlib notebook\n",
    "plt.errorbar(freqsN[0],deltaHN[0],fmt='.',yerr=errdeltaHN[0])\n",
    "for i in start:\n",
    "    HFMRfit = HFMRfits[i]\n",
    "    if i < 5:\n",
    "        plt.plot(freqsN[0],IPlinewidth(np.array(freqsN[0]),*deltaHfits[i][0]),'-',label=str(i))\n",
    "plt.legend()\n",
    "plt.xlabel('f (GHz)')\n",
    "plt.ylabel(r'$\\Delta$H OOP (Oe)')"
   ]
  },
  {
   "cell_type": "code",
   "execution_count": null,
   "metadata": {},
   "outputs": [],
   "source": [
    "%matplotlib notebook\n",
    "plt.plot(start,Meff,'.')\n",
    "plt.xlabel('starting index of fit')\n",
    "plt.ylabel('Meff')"
   ]
  },
  {
   "cell_type": "code",
   "execution_count": null,
   "metadata": {},
   "outputs": [],
   "source": [
    "%matplotlib notebook\n",
    "plt.plot(start,gip,'.')\n",
    "plt.xlabel('starting index of fit')\n",
    "plt.ylabel('gip')"
   ]
  },
  {
   "cell_type": "code",
   "execution_count": null,
   "metadata": {},
   "outputs": [],
   "source": [
    "%matplotlib notebook\n",
    "plt.plot(start,deltaH0,'.')\n",
    "plt.xlabel('starting index of fit')\n",
    "plt.ylabel('deltaH0')"
   ]
  },
  {
   "cell_type": "code",
   "execution_count": null,
   "metadata": {},
   "outputs": [],
   "source": [
    "%matplotlib notebook\n",
    "plt.plot(start,alpha,'.')\n",
    "plt.xlabel('starting index of fit')\n",
    "plt.ylabel('alpha')"
   ]
  },
  {
   "cell_type": "code",
   "execution_count": null,
   "metadata": {},
   "outputs": [],
   "source": [
    "%matplotlib notebook\n",
    "plt.plot(start,Hcubic,'.')\n",
    "plt.xlabel('starting index of fit')\n",
    "plt.ylabel('cubic anisotropy field')"
   ]
  },
  {
   "cell_type": "code",
   "execution_count": null,
   "metadata": {},
   "outputs": [],
   "source": [
    "%matplotlib notebook\n",
    "plt.plot(start,phi,'.')\n",
    "plt.xlabel('starting index of fit')\n",
    "plt.ylabel('sample angle')"
   ]
  },
  {
   "cell_type": "code",
   "execution_count": null,
   "metadata": {},
   "outputs": [],
   "source": [
    "%matplotlib notebook\n",
    "plt.plot(start,ms,'.')\n",
    "plt.xlabel('starting index of fit')\n",
    "plt.ylabel('saturation magnetization')"
   ]
  },
  {
   "cell_type": "code",
   "execution_count": null,
   "metadata": {},
   "outputs": [],
   "source": [
    "%matplotlib notebook\n",
    "plt.plot(start,g100,'.')\n",
    "plt.xlabel('starting index of fit')\n",
    "plt.ylabel('100 2-magnon scattering')"
   ]
  },
  {
   "cell_type": "code",
   "execution_count": null,
   "metadata": {},
   "outputs": [],
   "source": [
    "%matplotlib notebook\n",
    "plt.plot(start,g110,'.')\n",
    "plt.xlabel('starting index of fit')\n",
    "plt.ylabel('110 2-magnon scattering')"
   ]
  },
  {
   "cell_type": "code",
   "execution_count": null,
   "metadata": {},
   "outputs": [],
   "source": [
    "start = 0 #defined visually from above\n",
    "\n",
    "Meff = []\n",
    "gip = []\n",
    "Hcubic = []\n",
    "phi = []\n",
    "\n",
    "deltaH0 = []\n",
    "alpha = []\n",
    "ms = []\n",
    "g100 = []\n",
    "g110 = []\n",
    "\n",
    "HFMRfits = []\n",
    "deltaHfits = []\n",
    "guessH = np.array([2*muB*mu0/h, 2.5/mu0, np.pi/4., 240.])\n",
    "\n",
    "stop = np.arange(start+4,len(freqsN[0]))\n",
    "for i in stop:\n",
    "    freqslice = slice(start,i)\n",
    "    \n",
    "    HFMRfit = curve_fit(IPresfield,np.array(HFMRN[0][freqslice]),freqsN[0][freqslice],guessH)\n",
    "    HFMRfits.append(HFMRfit)\n",
    "    Meff.append(HFMRfit[0][-1]*4*np.pi)\n",
    "    gip.append(HFMRfit[0][0]*h/(muB*mu0))\n",
    "    Hcubic.append(HFMRfit[0][1]*mu0/10.)\n",
    "    phi.append(np.rad2deg(HFMRfit[0][2])%360)\n",
    "    \n",
    "    guessdH = np.array([0., .006, HFMRfit[0][-1], 6e8/HFMRfit[0][0] ,3e8/HFMRfit[0][0]])#, HFMRfit[0][2]])\n",
    "    \n",
    "    deltaHfit = curve_fit(IPlinewidth,freqsN[0][freqslice],np.array(deltaHN[0][freqslice]),guessdH,bounds=(0.,np.inf))\n",
    "    deltaHfits.append(deltaHfit)\n",
    "    deltaH0.append(deltaHfit[0][0])    \n",
    "    alpha.append(deltaHfit[0][1])\n",
    "    ms.append(deltaHfit[0][2])\n",
    "    g100.append(deltaHfit[0][3]*HFMRfit[0][0]/1e6)\n",
    "    g110.append(deltaHfit[0][4]*HFMRfit[0][0]/1e6)"
   ]
  },
  {
   "cell_type": "code",
   "execution_count": null,
   "metadata": {},
   "outputs": [],
   "source": [
    "%matplotlib notebook\n",
    "plt.errorbar(freqsN[0],deltaHN[0],fmt='.',yerr=errdeltaHN[0])\n",
    "for i in stop:\n",
    "    HFMRfit = HFMRfits[i-(start+4)]\n",
    "    if i > 20:\n",
    "        plt.plot(freqsN[0],IPlinewidth(np.array(freqsN[0]),*deltaHfits[i-(start+4)][0]),'-',label=str(i))\n",
    "plt.legend()\n",
    "plt.xlabel('f (GHz)')\n",
    "plt.ylabel('deltaH OOP (Oe)')"
   ]
  },
  {
   "cell_type": "code",
   "execution_count": null,
   "metadata": {
    "scrolled": false
   },
   "outputs": [],
   "source": [
    "%matplotlib notebook\n",
    "plt.plot(stop,alpha,'.')\n",
    "plt.xlabel('stopping index of fit')\n",
    "plt.ylabel('alpha')"
   ]
  },
  {
   "cell_type": "code",
   "execution_count": null,
   "metadata": {},
   "outputs": [],
   "source": [
    "stop = len(freqsN[0]) #visually defined\n",
    "freqslice = slice(start,stop)\n",
    "index = stop-start-4-1\n",
    "\n",
    "HFMRfit = HFMRfits[index]\n",
    "deltaHfit = deltaHfits[index]"
   ]
  },
  {
   "cell_type": "markdown",
   "metadata": {},
   "source": [
    "#### Display data"
   ]
  },
  {
   "cell_type": "code",
   "execution_count": null,
   "metadata": {},
   "outputs": [],
   "source": [
    "print 'Meff: '+str(Meff[index])+' emu/cm^3'\n",
    "print 'gip: '+str(gip[index])\n",
    "print 'H_cubic: '+str(Hcubic[index])+' mT'\n",
    "print 'phi: '+str(phi[index])+' deg'"
   ]
  },
  {
   "cell_type": "code",
   "execution_count": null,
   "metadata": {
    "scrolled": true
   },
   "outputs": [],
   "source": [
    "print \"deltaH_0: \"+str(deltaH0[index])+' Oe'\n",
    "print \"alpha: \"+str(alpha[index])\n",
    "print ms[index]\n",
    "print 'Ms: '+str(ms[index]*4.*np.pi)+' emu/cm^3'\n",
    "print '100: '+str(g100[index])+' MHz'\n",
    "print '110: '+str(g110[index])+' MHz'"
   ]
  },
  {
   "cell_type": "code",
   "execution_count": null,
   "metadata": {},
   "outputs": [],
   "source": [
    "%matplotlib notebook\n",
    "plt.errorbar(freqsN[0],HFMRN[0],fmt='.',yerr=errHFMRN[0])\n",
    "#if start != 0 or stop != len(freqsN[0]):\n",
    "#    freqslice = slice(start,stop)\n",
    "plt.errorbar(freqsN[0][freqslice],HFMRN[0][freqslice],fmt='.',yerr=errHFMRN[0][freqslice])\n",
    "plt.plot(IPresfield(HFMRN[0],*HFMRfit[0]),HFMRN[0],'-',label='Kittel eq.')\n",
    "plt.legend()\n",
    "plt.ylabel(r'H$_{FMR}$ OOP (Oe)')\n",
    "plt.xlabel('Frequency (GHz)')"
   ]
  },
  {
   "cell_type": "code",
   "execution_count": null,
   "metadata": {},
   "outputs": [],
   "source": [
    "%matplotlib notebook\n",
    "plt.errorbar(freqsN[0],deltaHN[0],fmt='.',yerr=errdeltaHN[0])\n",
    "#if start != 0 or stop != len(freqsN[0]):\n",
    "plt.errorbar(freqsN[0][freqslice],deltaHN[0][freqslice],fmt='.',yerr=errdeltaHN[0][freqslice])\n",
    "plt.plot(freqsN[0],IPlinewidth(np.array(freqsN[0]),*deltaHfit[0]),'-')\n",
    "plt.ylabel('FMR Linewidth OOP (Oe)')\n",
    "plt.xlabel('Frequency (GHz)')"
   ]
  },
  {
   "cell_type": "code",
   "execution_count": null,
   "metadata": {},
   "outputs": [],
   "source": [
    "fname = filename.partition('-')[0]\n",
    "outfile = fname+'-params'\n",
    "np.savez(outfile, frequenciesGHz = freqsN[0][freqslice],\n",
    "         resonantFieldOe = HFMRN[0][freqslice], linewidthOe = deltaHN[0][freqslice],\n",
    "         resonantFieldErrorOe = errHFMRN[0][freqslice], linewidthErrorOe = errdeltaHN[0][freqslice],\n",
    "         peakPhasedeg = phaseLorentzianN[0][freqslice], peakMagnitude = peakMagnitudeN[0][freqslice],\n",
    "         MeffectiveOe = Meff[index], gilbertDamping = alpha[index],\n",
    "         orbitalgip = gip[index], intrinsiclinewidthOe = deltaH0[index],\n",
    "         cubicAnisotropymT = Hcubic[index], sampleAngleDeg = phi[index],\n",
    "         MsaturationOe = ms[index], twoMagnon100MHz = g100[index], twoMagnon110MHz = g110[index],\n",
    "         resonantFieldFitCoefficients = HFMRfit[0], linewidthFitCoefficients = deltaHfit[0],\n",
    "         resonantFieldFitErrors = HFMRfit[1], linewidthFitErrors = deltaHfit[1])\n",
    "#insert CRO thickness, LSMO thickness into this file??"
   ]
  },
  {
   "cell_type": "code",
   "execution_count": null,
   "metadata": {},
   "outputs": [],
   "source": []
  }
 ],
 "metadata": {
  "kernelspec": {
   "display_name": "Python 2",
   "language": "python",
   "name": "python2"
  },
  "language_info": {
   "codemirror_mode": {
    "name": "ipython",
    "version": 2
   },
   "file_extension": ".py",
   "mimetype": "text/x-python",
   "name": "python",
   "nbconvert_exporter": "python",
   "pygments_lexer": "ipython2",
   "version": "2.7.16"
  }
 },
 "nbformat": 4,
 "nbformat_minor": 2
}
