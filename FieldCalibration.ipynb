{
 "cells": [
  {
   "cell_type": "code",
   "execution_count": null,
   "metadata": {},
   "outputs": [],
   "source": [
    "import numpy as np\n",
    "import matplotlib.pyplot as plt"
   ]
  },
  {
   "cell_type": "markdown",
   "metadata": {},
   "source": [
    "Read in calibration files - magnetic field (Oe) measured by a hall probe at two different locations (sample location - centered, and measurement location - lowered) vs. voltage (V) applied to electromagnet"
   ]
  },
  {
   "cell_type": "code",
   "execution_count": null,
   "metadata": {},
   "outputs": [],
   "source": [
    "#column 1 = Voltage (V)\n",
    "#column 2 = Field (Oe)\n",
    "twopowersupplies_centered = np.loadtxt('../FieldCalibration/190205/Hcalib-DoubSupply-ProbeCent.csv',delimiter=',',unpack=True)\n",
    "twopowersupplies_lowered = np.loadtxt('../FieldCalibration/190220-unmoved/Hcalib-DoubSupply-ProbeLower.csv',delimiter=',',unpack=True)"
   ]
  },
  {
   "cell_type": "markdown",
   "metadata": {},
   "source": [
    "Checking that voltage is the same for both files - since it is, we can make a simple mapping from measured to sample field"
   ]
  },
  {
   "cell_type": "code",
   "execution_count": null,
   "metadata": {},
   "outputs": [],
   "source": [
    "%matplotlib notebook\n",
    "plt.plot(twopowersupplies_centered[0],'.')\n",
    "plt.plot(twopowersupplies_lowered[0],'.')\n",
    "plt.ylabel('Voltage (V)')\n",
    "plt.xlabel('Number')"
   ]
  },
  {
   "cell_type": "code",
   "execution_count": null,
   "metadata": {},
   "outputs": [],
   "source": [
    "%matplotlib notebook\n",
    "plt.plot(twopowersupplies_centered[0],twopowersupplies_centered[1],'.',label='center')\n",
    "plt.plot(twopowersupplies_lowered[0],twopowersupplies_lowered[1],'.',label='measured')\n",
    "plt.xlabel('Voltage (V)')\n",
    "plt.ylabel('Field (Oe)')\n",
    "plt.legend()"
   ]
  },
  {
   "cell_type": "code",
   "execution_count": null,
   "metadata": {},
   "outputs": [],
   "source": [
    "#reverse order of points so everything is monotonically increasing\n",
    "voltage2 = twopowersupplies_lowered[0][::-1]\n",
    "lower2 = twopowersupplies_lowered[1][::-1]\n",
    "center2 = twopowersupplies_centered[1][::-1]"
   ]
  },
  {
   "cell_type": "markdown",
   "metadata": {},
   "source": [
    "The Hall probe occasionally seems to give an erroneous reading, which is characterized by the field reading jumping up slightly for one point and then jumping down for two, before settling back to what looks to be the correct reading. This pattern of three non-monotonic points occasionally occurs (not sure why, but may be an instrument error, or interference with other instruments in the lab) and because it is monotonic, I will deal with it by just deleting it from the measured points"
   ]
  },
  {
   "cell_type": "code",
   "execution_count": null,
   "metadata": {},
   "outputs": [],
   "source": [
    "#order = np.argsort(twopowersupplies_lowered[1][slice2])\n",
    "jumpdownlower = np.where(lower2[1:] <= lower2[:-1])[0]\n",
    "print jumpdownlower\n",
    "jumpdowncenter = np.where(center2[1:] <= center2[:-1])[0]\n",
    "print jumpdowncenter"
   ]
  },
  {
   "cell_type": "code",
   "execution_count": null,
   "metadata": {},
   "outputs": [],
   "source": [
    "s = slice(None,15)\n",
    "%matplotlib notebook\n",
    "plt.plot(voltage2[s],center2[s],'.',label='center')\n",
    "plt.plot(voltage2[s],lower2[s],'.',label='measured')\n",
    "plt.xlabel('Voltage (V)')\n",
    "plt.ylabel('Field (Oe)')\n",
    "plt.legend()"
   ]
  },
  {
   "cell_type": "code",
   "execution_count": null,
   "metadata": {},
   "outputs": [],
   "source": [
    "while (len(jumpdownlower) > 0):\n",
    "    start = jumpdownlower[0]+1\n",
    "    sd = slice(start,start+3)\n",
    "    voltage2 = np.delete(voltage2,sd)\n",
    "    lower2 = np.delete(lower2,sd)\n",
    "    center2 = np.delete(center2,sd)\n",
    "    jumpdownlower = np.where(lower2[1:] <= lower2[:-1])[0]\n",
    "    print jumpdownlower"
   ]
  },
  {
   "cell_type": "code",
   "execution_count": null,
   "metadata": {},
   "outputs": [],
   "source": [
    "while (len(jumpdowncenter) > 0):\n",
    "    start = jumpdowncenter[0]+1\n",
    "    sd = slice(start,start+3)\n",
    "    voltage2 = np.delete(voltage2,sd)\n",
    "    lower2 = np.delete(lower2,sd)\n",
    "    center2 = np.delete(center2,sd)\n",
    "    jumpdowncenter = np.where(center2[1:] <= center2[:-1])[0]\n",
    "    print jumpdowncenter"
   ]
  },
  {
   "cell_type": "code",
   "execution_count": null,
   "metadata": {},
   "outputs": [],
   "source": [
    "%matplotlib notebook\n",
    "plt.plot(lower2,center2,'.',label='data')\n",
    "plt.xlabel('Measured Field (Oe)')\n",
    "plt.ylabel('Actual Field (Oe)')"
   ]
  },
  {
   "cell_type": "markdown",
   "metadata": {},
   "source": [
    "We want to map measured field on field at the sample - the proportion error on the measurement is +- 1/35,000 so negligible compared to the rest of the measurements - so we will ignore those for now"
   ]
  },
  {
   "cell_type": "code",
   "execution_count": null,
   "metadata": {},
   "outputs": [],
   "source": [
    "from numpy import polyfit, poly1d"
   ]
  },
  {
   "cell_type": "code",
   "execution_count": null,
   "metadata": {},
   "outputs": [],
   "source": [
    "#linear fit\n",
    "\n",
    "doublecoefficients = polyfit(twopowersupplies_lowered[1],twopowersupplies_centered[1], 1)\n",
    "doublefit = poly1d(doublecoefficients)\n",
    "plt.plot(twopowersupplies_lowered[1],doublefit(twopowersupplies_lowered[1]),'-',label='two supply linear fit')\n",
    "plt.legend()\n",
    "\n",
    "print doublecoefficients"
   ]
  },
  {
   "cell_type": "code",
   "execution_count": null,
   "metadata": {},
   "outputs": [],
   "source": [
    "from scipy.interpolate import interp1d"
   ]
  },
  {
   "cell_type": "code",
   "execution_count": null,
   "metadata": {},
   "outputs": [],
   "source": [
    "#cubic spline\n",
    "\n",
    "fit = interp1d(lower2,center2,kind='cubic')\n",
    "\n",
    "plt.plot(lower2,fit(lower2),'-',label='two supply cubic spine fit')\n",
    "plt.legend()"
   ]
  },
  {
   "cell_type": "markdown",
   "metadata": {},
   "source": [
    "Observing the residuals from the fit, we see that the linear fit has regions of inaccuracy, while the cubic spline is good for our purposes, since we are not trying to extract any parameters"
   ]
  },
  {
   "cell_type": "code",
   "execution_count": null,
   "metadata": {},
   "outputs": [],
   "source": [
    "%matplotlib notebook\n",
    "plt.plot(twopowersupplies_lowered[1],twopowersupplies_centered[1]-doublefit(twopowersupplies_lowered[1]),'.')\n",
    "plt.xlabel('Measured Field (Oe)')\n",
    "plt.ylabel('Residual Field (Oe)')\n",
    "plt.title('Linear Residual')"
   ]
  },
  {
   "cell_type": "code",
   "execution_count": null,
   "metadata": {},
   "outputs": [],
   "source": [
    "%matplotlib notebook\n",
    "plt.plot(lower2,center2-fit(lower2),'.')\n",
    "plt.xlabel('Measured Field (Oe)')\n",
    "plt.ylabel('Residual Field (Oe)')\n",
    "plt.title('Cubic Residual')"
   ]
  },
  {
   "cell_type": "code",
   "execution_count": null,
   "metadata": {},
   "outputs": [],
   "source": [
    "rbins = np.linspace(-5e-12,5e-12,30)\n",
    "%matplotlib notebook\n",
    "plt.hist(center2-fit(lower2), bins=rbins, density=True)\n",
    "plt.xlabel('Residual')"
   ]
  },
  {
   "cell_type": "markdown",
   "metadata": {},
   "source": [
    "Not measured for this particular sample"
   ]
  },
  {
   "cell_type": "code",
   "execution_count": null,
   "metadata": {},
   "outputs": [],
   "source": [
    "onepowersupply_centered = np.loadtxt('Hcalib-SingSupply-ProbeCent.csv',delimiter=',',unpack=True)\n",
    "onepowersupply_lowered = np.loadtxt('Hcalib-SingSupply-ProbeLower.csv',delimiter=',',unpack=True)"
   ]
  },
  {
   "cell_type": "code",
   "execution_count": null,
   "metadata": {},
   "outputs": [],
   "source": [
    "%matplotlib notebook\n",
    "plt.plot(onepowersupply_centered[0],'.')\n",
    "plt.ylabel('Voltage (V)')\n",
    "plt.xlabel('Number')"
   ]
  },
  {
   "cell_type": "code",
   "execution_count": null,
   "metadata": {},
   "outputs": [],
   "source": [
    "%matplotlib notebook\n",
    "plt.plot(onepowersupply_centered[0],onepowersupply_centered[1],'.',label='center')\n",
    "plt.plot(onepowersupply_lowered[0],onepowersupply_lowered[1],'.',label='measured')\n",
    "plt.xlabel('Voltage (V)')\n",
    "plt.ylabel('Field (Oe)')\n",
    "plt.legend()"
   ]
  },
  {
   "cell_type": "code",
   "execution_count": null,
   "metadata": {},
   "outputs": [],
   "source": [
    "voltage1 = onepowersupply_lowered[0][::-1]\n",
    "lower1 = onepowersupply_lowered[1][::-1]\n",
    "center1 = onepowersupply_centered[1][::-1]"
   ]
  },
  {
   "cell_type": "code",
   "execution_count": null,
   "metadata": {},
   "outputs": [],
   "source": [
    "jumpdownlower1 = np.where(lower1[1:] <= lower1[:-1])\n",
    "print jumpdownlower1\n",
    "jumpdowncenter1 = np.where(center1[1:] <= center1[:-1])\n",
    "print jumpdowncenter1"
   ]
  },
  {
   "cell_type": "code",
   "execution_count": null,
   "metadata": {},
   "outputs": [],
   "source": [
    "%matplotlib notebook\n",
    "s = slice(5,20)\n",
    "plt.plot(voltage1[s],center1[s],'.',label='center')\n",
    "plt.plot(voltage1[s],lower1[s],'.',label='measured')\n",
    "plt.xlabel('Voltage (V)')\n",
    "plt.ylabel('Field (Oe)')\n",
    "plt.legend()"
   ]
  },
  {
   "cell_type": "code",
   "execution_count": null,
   "metadata": {},
   "outputs": [],
   "source": [
    "while (len(jumpdownlower1) > 0):\n",
    "    start = jumpdownlower1[0]+1\n",
    "    sd = slice(start,start+3)\n",
    "    voltage1 = np.delete(voltage1,sd)\n",
    "    lower1 = np.delete(lower1,sd)\n",
    "    center1 = np.delete(center1,sd)\n",
    "    jumpdownlower1 = np.where(lower1[1:] <= lower1[:-1])[0]\n",
    "    print jumpdownlower1"
   ]
  },
  {
   "cell_type": "code",
   "execution_count": null,
   "metadata": {},
   "outputs": [],
   "source": [
    "while (len(jumpdowncenter1) > 0):\n",
    "    start = jumpdowncenter1[0]+1\n",
    "    sd = slice(start,start+3)\n",
    "    voltage1 = np.delete(voltage1,sd)\n",
    "    lower1 = np.delete(lower1,sd)\n",
    "    center1 = np.delete(center1,sd)\n",
    "    jumpdowncenter1 = np.where(center1[1:] <= center1[:-1])[0]\n",
    "    print jumpdowncenter1"
   ]
  },
  {
   "cell_type": "code",
   "execution_count": null,
   "metadata": {},
   "outputs": [],
   "source": [
    "%matplotlib notebook\n",
    "plt.plot(lower1,center1,'.',label='data')\n",
    "plt.xlabel('Measured Field (Oe)')\n",
    "plt.ylabel('Actual Field (Oe)')"
   ]
  },
  {
   "cell_type": "code",
   "execution_count": null,
   "metadata": {},
   "outputs": [],
   "source": [
    "singlecoefficients = polyfit(onepowersupply_lowered[1],onepowersupply_centered[1], 1)\n",
    "singlefit = poly1d(singlecoefficients)"
   ]
  },
  {
   "cell_type": "code",
   "execution_count": null,
   "metadata": {},
   "outputs": [],
   "source": [
    "plt.plot(onepowersupply_lowered[1],singlefit(onepowersupply_lowered[1]),'-',label='one supply linear fit')\n",
    "plt.plot(onepowersupply_lowered[1],doublefit(onepowersupply_lowered[1]),'-',label='two supply linear fit')\n",
    "plt.legend()"
   ]
  },
  {
   "cell_type": "code",
   "execution_count": null,
   "metadata": {},
   "outputs": [],
   "source": [
    "print singlecoefficients"
   ]
  },
  {
   "cell_type": "code",
   "execution_count": null,
   "metadata": {},
   "outputs": [],
   "source": [
    "%matplotlib notebook\n",
    "plt.plot(lower1,center1-singlefit(lower1),'.')\n",
    "plt.xlabel('Measured Field (Oe)')\n",
    "plt.ylabel('Residual Field (Oe)')\n",
    "plt.title('Linear Residual')"
   ]
  },
  {
   "cell_type": "code",
   "execution_count": null,
   "metadata": {},
   "outputs": [],
   "source": [
    "fit1 = interp1d(lower1,center1,kind='cubic')\n",
    "%matplotlib notebook\n",
    "plt.plot(lower1,center1,'.')\n",
    "plt.plot(lower1,fit1(lower1),'-',label='one supply cubic spine fit')\n",
    "plt.legend()"
   ]
  },
  {
   "cell_type": "code",
   "execution_count": null,
   "metadata": {},
   "outputs": [],
   "source": [
    "%matplotlib notebook\n",
    "plt.plot(lower1,center1-fit1(lower1),'.')\n",
    "plt.xlabel('Measured Field (Oe)')\n",
    "plt.ylabel('Residual Field (Oe)')\n",
    "plt.title('Cubic Residual')"
   ]
  },
  {
   "cell_type": "code",
   "execution_count": null,
   "metadata": {},
   "outputs": [],
   "source": [
    "%matplotlib notebook\n",
    "plt.plot(lower2,center2,'.')\n",
    "plt.plot(lower1,center1,'.')\n",
    "plt.plot(lower2,fit(lower2),'-',label='two supply cubic spine fit')\n",
    "plt.plot(lower1,fit1(lower1),'-',label='one supply cubic spine fit')\n",
    "plt.legend()"
   ]
  },
  {
   "cell_type": "markdown",
   "metadata": {},
   "source": [
    "The measured field is scaled already with the following - needs to be undone before mapping - can also be read out from the filename"
   ]
  },
  {
   "cell_type": "code",
   "execution_count": null,
   "metadata": {},
   "outputs": [],
   "source": [
    "h_read_scale = 1.441\n",
    "h_read_offset = -11.535"
   ]
  },
  {
   "cell_type": "markdown",
   "metadata": {},
   "source": [
    "Saving results to a file - can't save the spline so must redo that"
   ]
  },
  {
   "cell_type": "code",
   "execution_count": null,
   "metadata": {},
   "outputs": [],
   "source": [
    "outfile = '../FieldCalibration/fieldcalib190220'\n",
    "np.savez(outfile, #onesupply_voltage = voltage1, onesupply_measuredH = lower1, onesupply_actualH = center1,\n",
    "         twosupply_voltage = voltage2, twosupply_measuredH = lower2, twosupply_actualH = center2,\n",
    "         h_read_scale = h_read_scale, h_read_offset = h_read_offset)\n",
    "#can't save the spline, so need to recalculate that in the next step"
   ]
  },
  {
   "cell_type": "code",
   "execution_count": null,
   "metadata": {},
   "outputs": [],
   "source": [
    "data = np.load('../FieldCalibration/fieldcalib190220.npz')"
   ]
  },
  {
   "cell_type": "code",
   "execution_count": null,
   "metadata": {},
   "outputs": [],
   "source": [
    "#voltage1 = data['onesupply_voltage']\n",
    "#lower1 = data['onesupply_measuredH']\n",
    "#center1 = data['onesupply_actualH']\n",
    "voltage2 = data['twosupply_voltage']\n",
    "lower2 = data['twosupply_measuredH']\n",
    "center2 = data['twosupply_actualH']\n",
    "len(center2)"
   ]
  },
  {
   "cell_type": "code",
   "execution_count": null,
   "metadata": {},
   "outputs": [],
   "source": [
    "voltagesingcoefficients = polyfit(voltage1[:500],center1[:500], 1)\n",
    "voltagefit1 = poly1d(voltagesingcoefficients)\n",
    "voltagedoubcoefficients = polyfit(voltage2[:500],center2[:500], 1)\n",
    "voltagefit2 = poly1d(voltagedoubcoefficients)\n",
    "%matplotlib notebook\n",
    "plt.plot(voltage2,center2,'.')\n",
    "plt.plot(voltage2[:500],center2[:500],'.')\n",
    "plt.plot(voltage2,voltagefit2(voltage2),'-',label='linear fit')\n",
    "plt.plot(voltage1,center1,'.')\n",
    "plt.plot(voltage1[:500],center1[:500],'.')\n",
    "plt.plot(voltage1,voltagefit1(voltage1),'-',label='one supply')\n",
    "plt.legend()\n",
    "plt.xlabel('Voltage (V)')\n",
    "plt.ylabel('Field (Oe)')"
   ]
  },
  {
   "cell_type": "code",
   "execution_count": null,
   "metadata": {},
   "outputs": [],
   "source": [
    "def Hconversion(field,numsupplies=2):\n",
    "    if numsupplies == 2:\n",
    "        argfield = np.abs(center2-field).argmin()\n",
    "        Hconv = center2[argfield]/voltage2[argfield]\n",
    "    else:\n",
    "        argfield = np.abs(center1-field).argmin()\n",
    "        Hconv = center1[argfield]/voltage1[argfield]\n",
    "    return Hconv"
   ]
  },
  {
   "cell_type": "code",
   "execution_count": null,
   "metadata": {},
   "outputs": [],
   "source": [
    "print voltagefit1\n",
    "print voltagefit2"
   ]
  },
  {
   "cell_type": "code",
   "execution_count": null,
   "metadata": {},
   "outputs": [],
   "source": [
    "targetfield = 2000.\n",
    "voltsperOe = Hconversion(2000,numsupplies=2)\n",
    "print voltsperOe"
   ]
  },
  {
   "cell_type": "code",
   "execution_count": null,
   "metadata": {},
   "outputs": [],
   "source": [
    "print singlecoefficients"
   ]
  },
  {
   "cell_type": "code",
   "execution_count": null,
   "metadata": {},
   "outputs": [],
   "source": [
    "print np.max(center1)\n",
    "print np.max(center2)"
   ]
  },
  {
   "cell_type": "code",
   "execution_count": null,
   "metadata": {
    "collapsed": true
   },
   "outputs": [],
   "source": []
  }
 ],
 "metadata": {
  "kernelspec": {
   "display_name": "Python 2",
   "language": "python",
   "name": "python2"
  },
  "language_info": {
   "codemirror_mode": {
    "name": "ipython",
    "version": 2
   },
   "file_extension": ".py",
   "mimetype": "text/x-python",
   "name": "python",
   "nbconvert_exporter": "python",
   "pygments_lexer": "ipython2",
   "version": "2.7.14"
  }
 },
 "nbformat": 4,
 "nbformat_minor": 2
}
