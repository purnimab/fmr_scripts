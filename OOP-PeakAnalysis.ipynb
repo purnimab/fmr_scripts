{
 "cells": [
  {
   "cell_type": "code",
   "execution_count": 1,
   "metadata": {},
   "outputs": [],
   "source": [
    "from fmr_scripts import FMR #if running in another directory - requires PYTHONPATH or sys.path to contain directory containing fmr_scripts\n",
    "#import FMR #if running in same directory\n",
    "import numpy as np\n",
    "import matplotlib.pyplot as plt\n",
    "import glob,os\n",
    "from scipy.interpolate import interp1d"
   ]
  },
  {
   "cell_type": "code",
   "execution_count": null,
   "metadata": {},
   "outputs": [],
   "source": [
    "filenames = glob.glob('*.npz')\n",
    "filename = filenames[np.argwhere(np.array([f.find('-fitparams') for f in filenames]) > -1)[0][0]]"
   ]
  },
  {
   "cell_type": "code",
   "execution_count": null,
   "metadata": {},
   "outputs": [],
   "source": [
    "extractedparams = np.load(filename)\n",
    "extractedparams.files"
   ]
  },
  {
   "cell_type": "code",
   "execution_count": null,
   "metadata": {},
   "outputs": [],
   "source": [
    "NPeaks = [len(f) for f in extractedparams['resonantFieldsOe']]\n",
    "print NPeaks"
   ]
  },
  {
   "cell_type": "code",
   "execution_count": null,
   "metadata": {},
   "outputs": [],
   "source": [
    "#essentially a reslicing\n",
    "def extract(data, field, n, whichcurves):\n",
    "    return np.array([data[field][i][n] for i in whichcurves])\n",
    "\n",
    "N = np.max(NPeaks)\n",
    "freqsN = []\n",
    "angsN = []\n",
    "HFMRN = []\n",
    "errHFMRN = []\n",
    "deltaHN = []\n",
    "errdeltaHN = []\n",
    "phaseLorentzianN = []\n",
    "errphaseLorentzianN = []\n",
    "peakMagnitudeN = []\n",
    "errpeakMagnitudeN = []\n",
    "for n in np.arange(0,N):\n",
    "    whichcurves = np.where(np.array(NPeaks) > n)[0]\n",
    "    freqsN.append(extractedparams['frequenciesGHz'][whichcurves])\n",
    "    angsN.append(extractedparams['anglesdeg'][whichcurves])\n",
    "    HFMRN.append(extract(extractedparams,'resonantFieldsOe',n,whichcurves))\n",
    "    errHFMRN.append(extract(extractedparams,'resonantFieldsErrorOe',n,whichcurves))\n",
    "    deltaHN.append(extract(extractedparams,'linewidthsOe',n,whichcurves))\n",
    "    errdeltaHN.append(extract(extractedparams,'linewidthsErrorOe',n,whichcurves))\n",
    "    phaseLorentzianN.append(extract(extractedparams,'peakPhasesdeg',n,whichcurves))\n",
    "    errphaseLorentzianN.append(extract(extractedparams,'peakPhasesErrordeg',n,whichcurves))\n",
    "    peakMagnitudeN.append(extract(extractedparams,'peakMagnitude',n,whichcurves))\n",
    "    errpeakMagnitudeN.append(extract(extractedparams,'peakMagnitudeError',n,whichcurves))"
   ]
  },
  {
   "cell_type": "markdown",
   "metadata": {},
   "source": [
    "#### Analysis picking a single mode"
   ]
  },
  {
   "cell_type": "markdown",
   "metadata": {},
   "source": [
    "#### Systematically determine which frequency points to discard (saturation magnetization? poor waveguide coupling?)"
   ]
  },
  {
   "cell_type": "code",
   "execution_count": null,
   "metadata": {},
   "outputs": [],
   "source": [
    "#need to take into account saturation magnetization\n",
    "h = 6.62607004e-34*1e7 #erg-s\n",
    "muB = 9.274000999e-21 #erg/G\n",
    "#mu0 = 1.00000037 #G/Oe - https://www.engineeringtoolbox.com/permeability-d_1923.html\n",
    "mu0 = 1. #actually measured in G not Oe\n",
    "giga = 1e9\n",
    "OetoAperm = 1000/(4*np.pi)"
   ]
  },
  {
   "cell_type": "code",
   "execution_count": null,
   "metadata": {},
   "outputs": [],
   "source": [
    "Meff = []\n",
    "gop = []\n",
    "HFMRfit = []\n",
    "\n",
    "deltaHfit = []\n",
    "deltaH0 = []\n",
    "alpha = []\n",
    "\n",
    "start = np.arange(0,len(freqsN[0])-1)\n",
    "for i in start:\n",
    "    freqslice = slice(i,None)\n",
    "    HFMRfit.append(np.polyfit(HFMRN[0][freqslice],freqsN[0][freqslice],1))\n",
    "    Meff.append(-HFMRfit[i][1]/(HFMRfit[i][0]*4*np.pi))\n",
    "    gop.append(HFMRfit[i][0]*h/(muB*mu0)*giga)\n",
    "    \n",
    "    deltaHfit.append(np.polyfit(freqsN[0][freqslice],deltaHN[0][freqslice],1,w=1./errdeltaHN[0][freqslice]))\n",
    "    deltaH0.append(deltaHfit[i][1])\n",
    "    alpha.append(deltaHfit[i][0]*HFMRfit[i][0])"
   ]
  },
  {
   "cell_type": "code",
   "execution_count": null,
   "metadata": {},
   "outputs": [],
   "source": [
    "%matplotlib notebook\n",
    "plt.errorbar(freqsN[0],HFMRN[0],fmt='.',yerr=errHFMRN[0])\n",
    "for i in start:\n",
    "    #if i < 12:\n",
    "    plt.plot(np.poly1d(HFMRfit[i])(HFMRN[0]),HFMRN[0],'-',label=str(i))\n",
    "plt.legend()\n",
    "plt.xlabel('f (GHz)')\n",
    "plt.ylabel('HFMR OOP (Oe)')"
   ]
  },
  {
   "cell_type": "code",
   "execution_count": null,
   "metadata": {},
   "outputs": [],
   "source": [
    "%matplotlib notebook\n",
    "plt.errorbar(freqsN[0],deltaHN[0],fmt='.',yerr=errdeltaHN[0])\n",
    "for i in start:\n",
    "    #if i < 6:\n",
    "    plt.plot(freqsN[0],np.poly1d(deltaHfit[i])(freqsN[0]),'-',label=str(i))\n",
    "plt.legend()\n",
    "plt.xlabel('f (GHz)')\n",
    "plt.ylabel('deltaH OOP (Oe)')"
   ]
  },
  {
   "cell_type": "code",
   "execution_count": null,
   "metadata": {},
   "outputs": [],
   "source": [
    "%matplotlib notebook\n",
    "plt.plot(start,Meff,'.')\n",
    "plt.xlabel('starting index of fit')\n",
    "plt.ylabel('Meff')"
   ]
  },
  {
   "cell_type": "code",
   "execution_count": null,
   "metadata": {},
   "outputs": [],
   "source": [
    "%matplotlib notebook\n",
    "plt.plot(start,gop,'.')\n",
    "plt.xlabel('starting index of fit')\n",
    "plt.ylabel('gop')"
   ]
  },
  {
   "cell_type": "code",
   "execution_count": null,
   "metadata": {},
   "outputs": [],
   "source": [
    "%matplotlib notebook\n",
    "plt.plot(start,deltaH0,'.')\n",
    "plt.xlabel('starting index of fit')\n",
    "plt.ylabel('deltaH0')"
   ]
  },
  {
   "cell_type": "code",
   "execution_count": null,
   "metadata": {},
   "outputs": [],
   "source": [
    "%matplotlib notebook\n",
    "plt.plot(start,alpha,'.')\n",
    "plt.xlabel('starting index of fit')\n",
    "plt.ylabel('alpha')"
   ]
  },
  {
   "cell_type": "code",
   "execution_count": null,
   "metadata": {},
   "outputs": [],
   "source": [
    "start = 2 #defined visually from above\n",
    "\n",
    "Meff = []\n",
    "gop = []\n",
    "HFMRfit = []\n",
    "\n",
    "deltaHfit = []\n",
    "deltaH0 = []\n",
    "alpha = []\n",
    "\n",
    "stop = np.arange(start+2,len(freqsN[0]))\n",
    "for i in stop:\n",
    "    freqslice = slice(start,i)\n",
    "    HFMRfit.append(np.polyfit(HFMRN[0][freqslice],freqsN[0][freqslice],1))\n",
    "    Meff.append(-HFMRfit[i-(start+2)][1]/(HFMRfit[i-(start+2)][0]*4*np.pi))\n",
    "    gop.append(HFMRfit[i-(start+2)][0]*h/(muB*mu0)*giga)\n",
    "    \n",
    "    deltaHfit.append(np.polyfit(freqsN[0][freqslice],deltaHN[0][freqslice],1,w=1./errdeltaHN[0][freqslice]))\n",
    "    deltaH0.append(deltaHfit[i-(start+2)][1])\n",
    "    alpha.append(deltaHfit[i-(start+2)][0]*HFMRfit[i-(start+2)][0])"
   ]
  },
  {
   "cell_type": "code",
   "execution_count": null,
   "metadata": {},
   "outputs": [],
   "source": [
    "%matplotlib notebook\n",
    "plt.errorbar(freqsN[0],deltaHN[0],fmt='.',yerr=errdeltaHN[0])\n",
    "for i in stop:\n",
    "    #if i > 5:\n",
    "    plt.plot(freqsN[0],np.poly1d(deltaHfit[i-4])(freqsN[0]),'-',label=str(i))\n",
    "plt.legend()\n",
    "plt.xlabel('f (GHz)')\n",
    "plt.ylabel('deltaH OOP (Oe)')"
   ]
  },
  {
   "cell_type": "code",
   "execution_count": null,
   "metadata": {
    "scrolled": false
   },
   "outputs": [],
   "source": [
    "%matplotlib notebook\n",
    "plt.plot(stop,alpha,'.')\n",
    "plt.xlabel('stopping index of fit')\n",
    "plt.ylabel('alpha')"
   ]
  },
  {
   "cell_type": "code",
   "execution_count": null,
   "metadata": {},
   "outputs": [],
   "source": [
    "stop = len(freqsN[0]) #visually defined\n",
    "index = stop-start-2-1"
   ]
  },
  {
   "cell_type": "markdown",
   "metadata": {},
   "source": [
    "#### Display data"
   ]
  },
  {
   "cell_type": "code",
   "execution_count": null,
   "metadata": {},
   "outputs": [],
   "source": [
    "print 'Meff: '+str(Meff[index])+' emu/cm^3'\n",
    "print 'gop: '+str(gop[index])\n",
    "\n",
    "%matplotlib notebook\n",
    "plt.errorbar(freqsN[0],HFMRN[0],fmt='.',yerr=errHFMRN[0])\n",
    "if start != 0 or stop != len(freqsN[0]):\n",
    "    freqslice = slice(start,stop)\n",
    "    plt.errorbar(freqsN[0][freqslice],HFMRN[0][freqslice],fmt='.',yerr=errHFMRN[0][freqslice])\n",
    "plt.plot(np.poly1d(HFMRfit[index])(HFMRN[0]),HFMRN[0],'-',label='Kittel eq.')\n",
    "plt.legend()\n",
    "plt.ylabel(r'H$_{FMR}$ OOP (Oe)')\n",
    "plt.xlabel('Frequency (GHz)')"
   ]
  },
  {
   "cell_type": "code",
   "execution_count": null,
   "metadata": {},
   "outputs": [],
   "source": [
    "print \"deltaH_0: \"+str(deltaH0[index])+' Oe'\n",
    "print \"alpha: \"+str(alpha[index])\n",
    "\n",
    "%matplotlib notebook\n",
    "plt.errorbar(freqsN[0],deltaHN[0],fmt='.',yerr=errdeltaHN[0])\n",
    "if start != 0 or stop != len(freqsN[0]):\n",
    "    plt.errorbar(freqsN[0][freqslice],deltaHN[0][freqslice],fmt='.',yerr=errdeltaHN[0][freqslice])\n",
    "plt.plot(freqsN[0],np.poly1d(deltaHfit[index])(freqsN[0]),'-')\n",
    "plt.ylabel('FMR Linewidth OOP (Oe)')\n",
    "plt.xlabel('Frequency (GHz)')"
   ]
  },
  {
   "cell_type": "code",
   "execution_count": null,
   "metadata": {},
   "outputs": [],
   "source": [
    "fname = filename.partition('-')[0]\n",
    "outfile = fname+'-params'\n",
    "np.savez(outfile, frequenciesGHz = freqsN[0][freqslice],\n",
    "         resonantFieldOe = HFMRN[0][freqslice], linewidthOe = deltaHN[0][freqslice],\n",
    "         resonantFieldErrorOe = errHFMRN[0][freqslice], linewidthErrorOe = errdeltaHN[0][freqslice],\n",
    "         peakPhasedeg = phaseLorentzianN[0][freqslice], peakMagnitude = peakMagnitudeN[0][freqslice],\n",
    "         MeffectiveOe = Meff[index], gilbertDamping = alpha[index],\n",
    "         orbitalgop = gop[index], intrinsiclinewidthOe = deltaH0[index],\n",
    "         resonantFieldFitCoefficients = HFMRfit[index], linewidthFitCoefficients = deltaHfit[index])\n",
    "#insert CRO thickness, LSMO thickness into this file??"
   ]
  },
  {
   "cell_type": "code",
   "execution_count": null,
   "metadata": {},
   "outputs": [],
   "source": []
  }
 ],
 "metadata": {
  "kernelspec": {
   "display_name": "Python 2",
   "language": "python",
   "name": "python2"
  },
  "language_info": {
   "codemirror_mode": {
    "name": "ipython",
    "version": 2
   },
   "file_extension": ".py",
   "mimetype": "text/x-python",
   "name": "python",
   "nbconvert_exporter": "python",
   "pygments_lexer": "ipython2",
   "version": "2.7.16"
  }
 },
 "nbformat": 4,
 "nbformat_minor": 2
}
